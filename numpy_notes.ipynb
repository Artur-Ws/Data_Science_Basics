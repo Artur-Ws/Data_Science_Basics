{
 "cells": [
  {
   "cell_type": "code",
   "execution_count": 1,
   "id": "b60f7fd1",
   "metadata": {},
   "outputs": [],
   "source": [
    "import numpy as np"
   ]
  },
  {
   "cell_type": "markdown",
   "id": "449a1ba5",
   "metadata": {},
   "source": [
    "#### Creating numpy arrays from python lists"
   ]
  },
  {
   "cell_type": "code",
   "execution_count": 2,
   "id": "0bb44e96",
   "metadata": {},
   "outputs": [],
   "source": [
    "my_list = [1, 2, 3, 4, 5, 6, 7, 8]"
   ]
  },
  {
   "cell_type": "code",
   "execution_count": 3,
   "id": "d9c514d6",
   "metadata": {},
   "outputs": [],
   "source": [
    "my_arr = np.array(my_list)"
   ]
  },
  {
   "cell_type": "code",
   "execution_count": 4,
   "id": "5e090d84",
   "metadata": {},
   "outputs": [
    {
     "data": {
      "text/plain": [
       "array([1, 2, 3, 4, 5, 6, 7, 8])"
      ]
     },
     "execution_count": 4,
     "metadata": {},
     "output_type": "execute_result"
    }
   ],
   "source": [
    "my_arr"
   ]
  },
  {
   "cell_type": "code",
   "execution_count": 28,
   "id": "e1221561",
   "metadata": {},
   "outputs": [],
   "source": [
    "arr1 = my_arr.reshape(2,4)"
   ]
  },
  {
   "cell_type": "markdown",
   "id": "95af2cc7",
   "metadata": {},
   "source": [
    "#### Finding max value of array"
   ]
  },
  {
   "cell_type": "code",
   "execution_count": 29,
   "id": "1626c8b2",
   "metadata": {},
   "outputs": [
    {
     "data": {
      "text/plain": [
       "8"
      ]
     },
     "execution_count": 29,
     "metadata": {},
     "output_type": "execute_result"
    }
   ],
   "source": [
    "arr1.max()"
   ]
  },
  {
   "cell_type": "markdown",
   "id": "96063ba0",
   "metadata": {},
   "source": [
    "#### Finding index of max falue"
   ]
  },
  {
   "cell_type": "code",
   "execution_count": 34,
   "id": "83fded8b",
   "metadata": {},
   "outputs": [
    {
     "data": {
      "text/plain": [
       "7"
      ]
     },
     "execution_count": 34,
     "metadata": {},
     "output_type": "execute_result"
    }
   ],
   "source": [
    "arr1.argmax()"
   ]
  },
  {
   "cell_type": "markdown",
   "id": "0c5e9efe-0534-4117-a6d6-8100c178aee0",
   "metadata": {},
   "source": [
    "#### Choosing a submatrix"
   ]
  },
  {
   "cell_type": "code",
   "execution_count": 44,
   "id": "0a5be75e-6062-48e4-b538-9761734d98c6",
   "metadata": {},
   "outputs": [
    {
     "data": {
      "text/plain": [
       "array([[ 0,  1,  2,  3,  4,  5,  6,  7,  8,  9],\n",
       "       [10, 11, 12, 13, 14, 15, 16, 17, 18, 19],\n",
       "       [20, 21, 22, 23, 24, 25, 26, 27, 28, 29],\n",
       "       [30, 31, 32, 33, 34, 35, 36, 37, 38, 39],\n",
       "       [40, 41, 42, 43, 44, 45, 46, 47, 48, 49],\n",
       "       [50, 51, 52, 53, 54, 55, 56, 57, 58, 59],\n",
       "       [60, 61, 62, 63, 64, 65, 66, 67, 68, 69],\n",
       "       [70, 71, 72, 73, 74, 75, 76, 77, 78, 79],\n",
       "       [80, 81, 82, 83, 84, 85, 86, 87, 88, 89],\n",
       "       [90, 91, 92, 93, 94, 95, 96, 97, 98, 99]])"
      ]
     },
     "execution_count": 44,
     "metadata": {},
     "output_type": "execute_result"
    }
   ],
   "source": [
    "big = np.arange(100).reshape(10,10)\n",
    "big"
   ]
  },
  {
   "cell_type": "markdown",
   "id": "6896225e-68be-4fae-bc30-7652099d5e26",
   "metadata": {},
   "source": [
    "Choose 22 - 45 matrix"
   ]
  },
  {
   "cell_type": "code",
   "execution_count": 48,
   "id": "63cd5168-dcc9-4932-bee2-94066cb1284e",
   "metadata": {},
   "outputs": [
    {
     "data": {
      "text/plain": [
       "array([[22, 23, 24, 25],\n",
       "       [32, 33, 34, 35],\n",
       "       [42, 43, 44, 45]])"
      ]
     },
     "execution_count": 48,
     "metadata": {},
     "output_type": "execute_result"
    }
   ],
   "source": [
    "sub = big[2:5, 2:6]\n",
    "sub"
   ]
  },
  {
   "cell_type": "markdown",
   "id": "e2a5a9f8-bf49-4a57-96a9-e91a2a96d529",
   "metadata": {},
   "source": [
    "#### Range evenly divided on given number of points\n",
    "Generate range 1 to 10 divided on 20 numbers"
   ]
  },
  {
   "cell_type": "code",
   "execution_count": 53,
   "id": "2adddc14-c8bf-4cbd-824b-446148d854b5",
   "metadata": {},
   "outputs": [
    {
     "data": {
      "text/plain": [
       "array([ 1.        ,  1.47368421,  1.94736842,  2.42105263,  2.89473684,\n",
       "        3.36842105,  3.84210526,  4.31578947,  4.78947368,  5.26315789,\n",
       "        5.73684211,  6.21052632,  6.68421053,  7.15789474,  7.63157895,\n",
       "        8.10526316,  8.57894737,  9.05263158,  9.52631579, 10.        ])"
      ]
     },
     "execution_count": 53,
     "metadata": {},
     "output_type": "execute_result"
    }
   ],
   "source": [
    "np.linspace(1, 10, 20)"
   ]
  },
  {
   "cell_type": "code",
   "execution_count": null,
   "id": "64980e86-2c39-4e70-956d-d0514bbf5679",
   "metadata": {},
   "outputs": [],
   "source": []
  },
  {
   "cell_type": "code",
   "execution_count": null,
   "id": "07016871-155e-42a2-9f87-4b87713ae2ef",
   "metadata": {},
   "outputs": [],
   "source": []
  }
 ],
 "metadata": {
  "kernelspec": {
   "display_name": "Python 3",
   "language": "python",
   "name": "python3"
  },
  "language_info": {
   "codemirror_mode": {
    "name": "ipython",
    "version": 3
   },
   "file_extension": ".py",
   "mimetype": "text/x-python",
   "name": "python",
   "nbconvert_exporter": "python",
   "pygments_lexer": "ipython3",
   "version": "3.8.8"
  }
 },
 "nbformat": 4,
 "nbformat_minor": 5
}
