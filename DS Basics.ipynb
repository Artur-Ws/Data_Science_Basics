{
 "cells": [
  {
   "cell_type": "code",
   "execution_count": 3,
   "id": "b60f7fd1",
   "metadata": {},
   "outputs": [],
   "source": [
    "import numpy as np"
   ]
  },
  {
   "cell_type": "markdown",
   "id": "449a1ba5",
   "metadata": {},
   "source": [
    "#### Creating numpy arrays from python lists"
   ]
  },
  {
   "cell_type": "code",
   "execution_count": 16,
   "id": "0bb44e96",
   "metadata": {},
   "outputs": [],
   "source": [
    "my_list = [1, 2, 3, 4, 5, 6, 7, 8]"
   ]
  },
  {
   "cell_type": "code",
   "execution_count": 17,
   "id": "d9c514d6",
   "metadata": {},
   "outputs": [],
   "source": [
    "my_arr = np.array(my_list)"
   ]
  },
  {
   "cell_type": "code",
   "execution_count": 18,
   "id": "5e090d84",
   "metadata": {},
   "outputs": [
    {
     "data": {
      "text/plain": [
       "array([1, 2, 3, 4, 5, 6, 7, 8])"
      ]
     },
     "execution_count": 18,
     "metadata": {},
     "output_type": "execute_result"
    }
   ],
   "source": [
    "my_arr"
   ]
  },
  {
   "cell_type": "code",
   "execution_count": 19,
   "id": "e1221561",
   "metadata": {},
   "outputs": [
    {
     "data": {
      "text/plain": [
       "array([[1, 2, 3, 4],\n",
       "       [5, 6, 7, 8]])"
      ]
     },
     "execution_count": 19,
     "metadata": {},
     "output_type": "execute_result"
    }
   ],
   "source": [
    "my_arr.reshape(2,4)"
   ]
  },
  {
   "cell_type": "markdown",
   "id": "95af2cc7",
   "metadata": {},
   "source": [
    "#### Finding max value of array"
   ]
  },
  {
   "cell_type": "code",
   "execution_count": 20,
   "id": "1626c8b2",
   "metadata": {},
   "outputs": [
    {
     "data": {
      "text/plain": [
       "8"
      ]
     },
     "execution_count": 20,
     "metadata": {},
     "output_type": "execute_result"
    }
   ],
   "source": [
    "my_arr.max()"
   ]
  },
  {
   "cell_type": "markdown",
   "id": "96063ba0",
   "metadata": {},
   "source": [
    "#### Finding index of max falue"
   ]
  },
  {
   "cell_type": "code",
   "execution_count": 21,
   "id": "83fded8b",
   "metadata": {},
   "outputs": [
    {
     "data": {
      "text/plain": [
       "7"
      ]
     },
     "execution_count": 21,
     "metadata": {},
     "output_type": "execute_result"
    }
   ],
   "source": [
    "my_arr.argmax()"
   ]
  },
  {
   "cell_type": "code",
   "execution_count": 22,
   "id": "e4d5d290",
   "metadata": {},
   "outputs": [
    {
     "data": {
      "text/plain": [
       "8"
      ]
     },
     "execution_count": 22,
     "metadata": {},
     "output_type": "execute_result"
    }
   ],
   "source": [
    "my_arr[7]"
   ]
  },
  {
   "cell_type": "code",
   "execution_count": null,
   "id": "4dd00932",
   "metadata": {},
   "outputs": [],
   "source": []
  }
 ],
 "metadata": {
  "kernelspec": {
   "display_name": "Python 3",
   "language": "python",
   "name": "python3"
  },
  "language_info": {
   "codemirror_mode": {
    "name": "ipython",
    "version": 3
   },
   "file_extension": ".py",
   "mimetype": "text/x-python",
   "name": "python",
   "nbconvert_exporter": "python",
   "pygments_lexer": "ipython3",
   "version": "3.8.8"
  }
 },
 "nbformat": 4,
 "nbformat_minor": 5
}
