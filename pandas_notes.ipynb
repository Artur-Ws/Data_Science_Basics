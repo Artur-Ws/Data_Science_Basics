{
 "cells": [
  {
   "cell_type": "code",
   "execution_count": 2,
   "id": "e7ebc4e3-fc66-4593-84a5-cfe87ca38dfd",
   "metadata": {},
   "outputs": [],
   "source": [
    "import numpy as np\n",
    "import pandas as pd"
   ]
  },
  {
   "cell_type": "markdown",
   "id": "aa45d882-80d1-4b6f-a817-53585a5d5164",
   "metadata": {},
   "source": [
    "### Pandas series \n",
    "Basic arguments are data and labels."
   ]
  },
  {
   "cell_type": "code",
   "execution_count": 17,
   "id": "de976393-29cd-4a0d-b690-38f9c98afb97",
   "metadata": {},
   "outputs": [],
   "source": [
    "labels = ['a', 'b', 'c', 'd']\n",
    "data = [1, 2, 3, 4]\n",
    "arr = np.array(data)\n",
    "dic = {'a':1, 'b':2, 'c':3, 'd':4}"
   ]
  },
  {
   "cell_type": "markdown",
   "id": "b3f3fdeb-e9a6-4e0d-9cd9-8c1b5ee3f2aa",
   "metadata": {},
   "source": [
    "python list can be passed as a data, and another list as a label"
   ]
  },
  {
   "cell_type": "code",
   "execution_count": 18,
   "id": "b3a56d37-017c-44ab-bfc2-13333aff83e8",
   "metadata": {
    "tags": []
   },
   "outputs": [
    {
     "data": {
      "text/plain": [
       "a    1\n",
       "b    2\n",
       "c    3\n",
       "d    4\n",
       "dtype: int64"
      ]
     },
     "execution_count": 18,
     "metadata": {},
     "output_type": "execute_result"
    }
   ],
   "source": [
    "pd.Series(data=data, index=labels)"
   ]
  },
  {
   "cell_type": "markdown",
   "id": "5bf90c70-5c0b-41dc-9ee5-393732538685",
   "metadata": {},
   "source": [
    "Numpy array can be passed as a data"
   ]
  },
  {
   "cell_type": "code",
   "execution_count": 19,
   "id": "ae5dc296-e006-4dcd-aad8-41c69a328b75",
   "metadata": {
    "tags": []
   },
   "outputs": [
    {
     "data": {
      "text/plain": [
       "a    1\n",
       "b    2\n",
       "c    3\n",
       "d    4\n",
       "dtype: int32"
      ]
     },
     "execution_count": 19,
     "metadata": {},
     "output_type": "execute_result"
    }
   ],
   "source": [
    "pd.Series(data=arr, index=labels)"
   ]
  },
  {
   "cell_type": "markdown",
   "id": "5bb0f51a-54d7-44b4-ad3f-af77f53b97ca",
   "metadata": {},
   "source": [
    "Also just python dictionary can be passed as labeled data"
   ]
  },
  {
   "cell_type": "code",
   "execution_count": 20,
   "id": "cdce70fa-9ca0-411a-8658-c014182c7060",
   "metadata": {
    "tags": []
   },
   "outputs": [
    {
     "data": {
      "text/plain": [
       "a    1\n",
       "b    2\n",
       "c    3\n",
       "d    4\n",
       "dtype: int64"
      ]
     },
     "execution_count": 20,
     "metadata": {},
     "output_type": "execute_result"
    }
   ],
   "source": [
    "pd.Series(dic)"
   ]
  },
  {
   "cell_type": "markdown",
   "id": "5fa6640b-34d6-40d4-9a6f-18b4d4530601",
   "metadata": {},
   "source": [
    "#### Taking info from series by label"
   ]
  },
  {
   "cell_type": "code",
   "execution_count": 21,
   "id": "87a88041-3382-4479-bb34-74afe2941a82",
   "metadata": {},
   "outputs": [
    {
     "data": {
      "text/plain": [
       "red      [256, 0, 0]\n",
       "green    [0, 256, 0]\n",
       "blue     [0, 0, 256]\n",
       "dtype: object"
      ]
     },
     "execution_count": 21,
     "metadata": {},
     "output_type": "execute_result"
    }
   ],
   "source": [
    "ser1 = pd.Series([[256,0,0],[0,256,0],[0,0,256]],['red','green','blue'])\n",
    "ser1"
   ]
  },
  {
   "cell_type": "markdown",
   "id": "3af3acb0-49cc-4e7d-9fef-9513ead24f32",
   "metadata": {},
   "source": [
    "To get in"
   ]
  },
  {
   "cell_type": "code",
   "execution_count": 22,
   "id": "3291da31-f5f4-47ac-99c0-2aa99ce54ea1",
   "metadata": {},
   "outputs": [
    {
     "data": {
      "text/plain": [
       "[256, 0, 0]"
      ]
     },
     "execution_count": 22,
     "metadata": {},
     "output_type": "execute_result"
    }
   ],
   "source": [
    "ser1['red']"
   ]
  },
  {
   "cell_type": "code",
   "execution_count": null,
   "id": "5b01f6b0-ac3a-4cd8-8099-feffa72b99f5",
   "metadata": {},
   "outputs": [],
   "source": [
    "kj"
   ]
  }
 ],
 "metadata": {
  "kernelspec": {
   "display_name": "Python 3",
   "language": "python",
   "name": "python3"
  },
  "language_info": {
   "codemirror_mode": {
    "name": "ipython",
    "version": 3
   },
   "file_extension": ".py",
   "mimetype": "text/x-python",
   "name": "python",
   "nbconvert_exporter": "python",
   "pygments_lexer": "ipython3",
   "version": "3.8.8"
  }
 },
 "nbformat": 4,
 "nbformat_minor": 5
}
