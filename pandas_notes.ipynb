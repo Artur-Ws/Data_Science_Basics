{
 "cells": [
  {
   "cell_type": "code",
   "execution_count": 1,
   "id": "e7ebc4e3-fc66-4593-84a5-cfe87ca38dfd",
   "metadata": {},
   "outputs": [],
   "source": [
    "import numpy as np\n",
    "import pandas as pd"
   ]
  },
  {
   "cell_type": "markdown",
   "id": "aa45d882-80d1-4b6f-a817-53585a5d5164",
   "metadata": {},
   "source": [
    "# Pandas series \n",
    "Basic arguments are data and labels."
   ]
  },
  {
   "cell_type": "code",
   "execution_count": 2,
   "id": "de976393-29cd-4a0d-b690-38f9c98afb97",
   "metadata": {},
   "outputs": [],
   "source": [
    "labels = ['a', 'b', 'c', 'd']\n",
    "data = [1, 2, 3, 4]\n",
    "arr = np.array(data)\n",
    "dic = {'a':1, 'b':2, 'c':3, 'd':4}"
   ]
  },
  {
   "cell_type": "markdown",
   "id": "b3f3fdeb-e9a6-4e0d-9cd9-8c1b5ee3f2aa",
   "metadata": {},
   "source": [
    "python list can be passed as a data, and another list as a label"
   ]
  },
  {
   "cell_type": "code",
   "execution_count": 3,
   "id": "b3a56d37-017c-44ab-bfc2-13333aff83e8",
   "metadata": {
    "tags": []
   },
   "outputs": [
    {
     "data": {
      "text/plain": [
       "a    1\n",
       "b    2\n",
       "c    3\n",
       "d    4\n",
       "dtype: int64"
      ]
     },
     "execution_count": 3,
     "metadata": {},
     "output_type": "execute_result"
    }
   ],
   "source": [
    "pd.Series(data=data, index=labels)"
   ]
  },
  {
   "cell_type": "markdown",
   "id": "5bf90c70-5c0b-41dc-9ee5-393732538685",
   "metadata": {},
   "source": [
    "Numpy array can be passed as a data"
   ]
  },
  {
   "cell_type": "code",
   "execution_count": 4,
   "id": "ae5dc296-e006-4dcd-aad8-41c69a328b75",
   "metadata": {
    "tags": []
   },
   "outputs": [
    {
     "data": {
      "text/plain": [
       "a    1\n",
       "b    2\n",
       "c    3\n",
       "d    4\n",
       "dtype: int32"
      ]
     },
     "execution_count": 4,
     "metadata": {},
     "output_type": "execute_result"
    }
   ],
   "source": [
    "pd.Series(data=arr, index=labels)"
   ]
  },
  {
   "cell_type": "markdown",
   "id": "5bb0f51a-54d7-44b4-ad3f-af77f53b97ca",
   "metadata": {},
   "source": [
    "Also just python dictionary can be passed as labeled data"
   ]
  },
  {
   "cell_type": "code",
   "execution_count": 5,
   "id": "cdce70fa-9ca0-411a-8658-c014182c7060",
   "metadata": {
    "tags": []
   },
   "outputs": [
    {
     "data": {
      "text/plain": [
       "a    1\n",
       "b    2\n",
       "c    3\n",
       "d    4\n",
       "dtype: int64"
      ]
     },
     "execution_count": 5,
     "metadata": {},
     "output_type": "execute_result"
    }
   ],
   "source": [
    "pd.Series(dic)"
   ]
  },
  {
   "cell_type": "markdown",
   "id": "5fa6640b-34d6-40d4-9a6f-18b4d4530601",
   "metadata": {},
   "source": [
    "## Choosing elements of series by label"
   ]
  },
  {
   "cell_type": "code",
   "execution_count": 6,
   "id": "87a88041-3382-4479-bb34-74afe2941a82",
   "metadata": {},
   "outputs": [
    {
     "data": {
      "text/plain": [
       "red      [256, 0, 0]\n",
       "green    [0, 256, 0]\n",
       "blue     [0, 0, 256]\n",
       "dtype: object"
      ]
     },
     "execution_count": 6,
     "metadata": {},
     "output_type": "execute_result"
    }
   ],
   "source": [
    "ser1 = pd.Series([[256,0,0],[0,256,0],[0,0,256]],['red','green','blue'])\n",
    "ser1"
   ]
  },
  {
   "cell_type": "markdown",
   "id": "3af3acb0-49cc-4e7d-9fef-9513ead24f32",
   "metadata": {},
   "source": [
    "To get data that is described by specific label, just put the label in brackets"
   ]
  },
  {
   "cell_type": "code",
   "execution_count": 7,
   "id": "3291da31-f5f4-47ac-99c0-2aa99ce54ea1",
   "metadata": {},
   "outputs": [
    {
     "data": {
      "text/plain": [
       "[256, 0, 0]"
      ]
     },
     "execution_count": 7,
     "metadata": {},
     "output_type": "execute_result"
    }
   ],
   "source": [
    "ser1['red']"
   ]
  },
  {
   "cell_type": "markdown",
   "id": "44d9130c-d1f6-49bd-863c-e9e5f0844b19",
   "metadata": {},
   "source": [
    "To choose more than one elements put list of labels in sq brackets"
   ]
  },
  {
   "cell_type": "code",
   "execution_count": 8,
   "id": "f2f69f42-9cbd-4b32-8159-660bf06bc47f",
   "metadata": {},
   "outputs": [
    {
     "data": {
      "text/plain": [
       "red      [256, 0, 0]\n",
       "green    [0, 256, 0]\n",
       "dtype: object"
      ]
     },
     "execution_count": 8,
     "metadata": {},
     "output_type": "execute_result"
    }
   ],
   "source": [
    "ser1[['red','green']]"
   ]
  },
  {
   "cell_type": "markdown",
   "id": "5bd8d956-89ef-49dc-b8a2-97642546fb06",
   "metadata": {},
   "source": [
    "## Choosing elements of series by index"
   ]
  },
  {
   "cell_type": "markdown",
   "id": "ef807e69-ee9d-441e-b7b5-e32cde501957",
   "metadata": {},
   "source": [
    "To choose elements by index, use iloc method"
   ]
  },
  {
   "cell_type": "code",
   "execution_count": 9,
   "id": "aa488ca9-0001-4baf-b605-ee9523b0107d",
   "metadata": {},
   "outputs": [
    {
     "data": {
      "text/plain": [
       "[256, 0, 0]"
      ]
     },
     "execution_count": 9,
     "metadata": {},
     "output_type": "execute_result"
    }
   ],
   "source": [
    "ser1.iloc[0]"
   ]
  },
  {
   "cell_type": "code",
   "execution_count": 10,
   "id": "fb5af747-2c76-40f9-8d1f-d13ed88c0bcd",
   "metadata": {},
   "outputs": [
    {
     "data": {
      "text/plain": [
       "red      [256, 0, 0]\n",
       "green    [0, 256, 0]\n",
       "dtype: object"
      ]
     },
     "execution_count": 10,
     "metadata": {},
     "output_type": "execute_result"
    }
   ],
   "source": [
    "ser1.iloc[[0,1]]"
   ]
  },
  {
   "cell_type": "markdown",
   "id": "e0ffa2cb-1a2e-4878-9e3a-e8d343f91b39",
   "metadata": {},
   "source": [
    "# Data Frames"
   ]
  },
  {
   "cell_type": "markdown",
   "id": "67ec7c00-e100-42e7-89bb-f241ea76a3be",
   "metadata": {},
   "source": [
    "Data frames are built with pandas series, it supports number of columns which can be labeled"
   ]
  },
  {
   "cell_type": "code",
   "execution_count": 11,
   "id": "585d187c-b486-4a4c-821d-d4cea688d6e6",
   "metadata": {},
   "outputs": [],
   "source": [
    "np.random.seed(101)"
   ]
  },
  {
   "cell_type": "code",
   "execution_count": 12,
   "id": "4d91e417-eecd-46dc-ba75-49c7f66c648e",
   "metadata": {},
   "outputs": [
    {
     "data": {
      "text/html": [
       "<div>\n",
       "<style scoped>\n",
       "    .dataframe tbody tr th:only-of-type {\n",
       "        vertical-align: middle;\n",
       "    }\n",
       "\n",
       "    .dataframe tbody tr th {\n",
       "        vertical-align: top;\n",
       "    }\n",
       "\n",
       "    .dataframe thead th {\n",
       "        text-align: right;\n",
       "    }\n",
       "</style>\n",
       "<table border=\"1\" class=\"dataframe\">\n",
       "  <thead>\n",
       "    <tr style=\"text-align: right;\">\n",
       "      <th></th>\n",
       "      <th>W</th>\n",
       "      <th>X</th>\n",
       "      <th>Y</th>\n",
       "      <th>Z</th>\n",
       "    </tr>\n",
       "  </thead>\n",
       "  <tbody>\n",
       "    <tr>\n",
       "      <th>A</th>\n",
       "      <td>2.706850</td>\n",
       "      <td>0.628133</td>\n",
       "      <td>0.907969</td>\n",
       "      <td>0.503826</td>\n",
       "    </tr>\n",
       "    <tr>\n",
       "      <th>B</th>\n",
       "      <td>0.651118</td>\n",
       "      <td>-0.319318</td>\n",
       "      <td>-0.848077</td>\n",
       "      <td>0.605965</td>\n",
       "    </tr>\n",
       "    <tr>\n",
       "      <th>C</th>\n",
       "      <td>-2.018168</td>\n",
       "      <td>0.740122</td>\n",
       "      <td>0.528813</td>\n",
       "      <td>-0.589001</td>\n",
       "    </tr>\n",
       "    <tr>\n",
       "      <th>D</th>\n",
       "      <td>0.188695</td>\n",
       "      <td>-0.758872</td>\n",
       "      <td>-0.933237</td>\n",
       "      <td>0.955057</td>\n",
       "    </tr>\n",
       "    <tr>\n",
       "      <th>E</th>\n",
       "      <td>0.190794</td>\n",
       "      <td>1.978757</td>\n",
       "      <td>2.605967</td>\n",
       "      <td>0.683509</td>\n",
       "    </tr>\n",
       "  </tbody>\n",
       "</table>\n",
       "</div>"
      ],
      "text/plain": [
       "          W         X         Y         Z\n",
       "A  2.706850  0.628133  0.907969  0.503826\n",
       "B  0.651118 -0.319318 -0.848077  0.605965\n",
       "C -2.018168  0.740122  0.528813 -0.589001\n",
       "D  0.188695 -0.758872 -0.933237  0.955057\n",
       "E  0.190794  1.978757  2.605967  0.683509"
      ]
     },
     "execution_count": 12,
     "metadata": {},
     "output_type": "execute_result"
    }
   ],
   "source": [
    "df = pd.DataFrame(np.random.randn(5,4),['A','B','C','D','E'], ['W','X','Y','Z'])\n",
    "df"
   ]
  },
  {
   "cell_type": "markdown",
   "id": "9b096a08-55d2-4255-a905-aa1631feca00",
   "metadata": {},
   "source": [
    "## Choosing columns from data frame"
   ]
  },
  {
   "cell_type": "markdown",
   "id": "1d8d6d9c-42b6-4785-a394-8cbdad0bb3aa",
   "metadata": {},
   "source": [
    "To chose single column, put its name into a sq brackets"
   ]
  },
  {
   "cell_type": "code",
   "execution_count": 13,
   "id": "851fce9b-b6d0-455a-9c17-e6ad2c8a4e74",
   "metadata": {},
   "outputs": [
    {
     "data": {
      "text/plain": [
       "A    2.706850\n",
       "B    0.651118\n",
       "C   -2.018168\n",
       "D    0.188695\n",
       "E    0.190794\n",
       "Name: W, dtype: float64"
      ]
     },
     "execution_count": 13,
     "metadata": {},
     "output_type": "execute_result"
    }
   ],
   "source": [
    "df['W']"
   ]
  },
  {
   "cell_type": "markdown",
   "id": "892975fc-6325-4d4a-aad7-da04f651b7af",
   "metadata": {},
   "source": [
    "To choose multiple columns puts a list with names in brackets"
   ]
  },
  {
   "cell_type": "code",
   "execution_count": 14,
   "id": "c2705224-bbd8-44eb-82fa-d112dd622405",
   "metadata": {},
   "outputs": [
    {
     "data": {
      "text/html": [
       "<div>\n",
       "<style scoped>\n",
       "    .dataframe tbody tr th:only-of-type {\n",
       "        vertical-align: middle;\n",
       "    }\n",
       "\n",
       "    .dataframe tbody tr th {\n",
       "        vertical-align: top;\n",
       "    }\n",
       "\n",
       "    .dataframe thead th {\n",
       "        text-align: right;\n",
       "    }\n",
       "</style>\n",
       "<table border=\"1\" class=\"dataframe\">\n",
       "  <thead>\n",
       "    <tr style=\"text-align: right;\">\n",
       "      <th></th>\n",
       "      <th>W</th>\n",
       "      <th>X</th>\n",
       "    </tr>\n",
       "  </thead>\n",
       "  <tbody>\n",
       "    <tr>\n",
       "      <th>A</th>\n",
       "      <td>2.706850</td>\n",
       "      <td>0.628133</td>\n",
       "    </tr>\n",
       "    <tr>\n",
       "      <th>B</th>\n",
       "      <td>0.651118</td>\n",
       "      <td>-0.319318</td>\n",
       "    </tr>\n",
       "    <tr>\n",
       "      <th>C</th>\n",
       "      <td>-2.018168</td>\n",
       "      <td>0.740122</td>\n",
       "    </tr>\n",
       "    <tr>\n",
       "      <th>D</th>\n",
       "      <td>0.188695</td>\n",
       "      <td>-0.758872</td>\n",
       "    </tr>\n",
       "    <tr>\n",
       "      <th>E</th>\n",
       "      <td>0.190794</td>\n",
       "      <td>1.978757</td>\n",
       "    </tr>\n",
       "  </tbody>\n",
       "</table>\n",
       "</div>"
      ],
      "text/plain": [
       "          W         X\n",
       "A  2.706850  0.628133\n",
       "B  0.651118 -0.319318\n",
       "C -2.018168  0.740122\n",
       "D  0.188695 -0.758872\n",
       "E  0.190794  1.978757"
      ]
     },
     "execution_count": 14,
     "metadata": {},
     "output_type": "execute_result"
    }
   ],
   "source": [
    "df[['W', 'X']]"
   ]
  },
  {
   "cell_type": "markdown",
   "id": "b6fbe388-d4b7-4b3c-87c6-adf7937645d9",
   "metadata": {},
   "source": [
    "## Creating a new column in data frame"
   ]
  },
  {
   "cell_type": "markdown",
   "id": "8ef2a698-cce0-4d6b-842b-571f4af99cdc",
   "metadata": {},
   "source": [
    "To create new column put its name in sq brackets and assign list of values for that column.\n",
    "\n",
    "It can be also done by choosing an existing columns and for example adding them"
   ]
  },
  {
   "cell_type": "code",
   "execution_count": 15,
   "id": "ad3e2eb1-4fef-447d-aab7-a1c15a0b84f5",
   "metadata": {},
   "outputs": [],
   "source": [
    "df['new1'] = [1,2,3,4,5]\n",
    "df['new2'] = df['Y'] + df['Z']"
   ]
  },
  {
   "cell_type": "code",
   "execution_count": 16,
   "id": "240db349-5c27-4dfe-b2c2-da7e9822bcf3",
   "metadata": {},
   "outputs": [
    {
     "data": {
      "text/html": [
       "<div>\n",
       "<style scoped>\n",
       "    .dataframe tbody tr th:only-of-type {\n",
       "        vertical-align: middle;\n",
       "    }\n",
       "\n",
       "    .dataframe tbody tr th {\n",
       "        vertical-align: top;\n",
       "    }\n",
       "\n",
       "    .dataframe thead th {\n",
       "        text-align: right;\n",
       "    }\n",
       "</style>\n",
       "<table border=\"1\" class=\"dataframe\">\n",
       "  <thead>\n",
       "    <tr style=\"text-align: right;\">\n",
       "      <th></th>\n",
       "      <th>W</th>\n",
       "      <th>X</th>\n",
       "      <th>Y</th>\n",
       "      <th>Z</th>\n",
       "      <th>new1</th>\n",
       "      <th>new2</th>\n",
       "    </tr>\n",
       "  </thead>\n",
       "  <tbody>\n",
       "    <tr>\n",
       "      <th>A</th>\n",
       "      <td>2.706850</td>\n",
       "      <td>0.628133</td>\n",
       "      <td>0.907969</td>\n",
       "      <td>0.503826</td>\n",
       "      <td>1</td>\n",
       "      <td>1.411795</td>\n",
       "    </tr>\n",
       "    <tr>\n",
       "      <th>B</th>\n",
       "      <td>0.651118</td>\n",
       "      <td>-0.319318</td>\n",
       "      <td>-0.848077</td>\n",
       "      <td>0.605965</td>\n",
       "      <td>2</td>\n",
       "      <td>-0.242112</td>\n",
       "    </tr>\n",
       "    <tr>\n",
       "      <th>C</th>\n",
       "      <td>-2.018168</td>\n",
       "      <td>0.740122</td>\n",
       "      <td>0.528813</td>\n",
       "      <td>-0.589001</td>\n",
       "      <td>3</td>\n",
       "      <td>-0.060187</td>\n",
       "    </tr>\n",
       "    <tr>\n",
       "      <th>D</th>\n",
       "      <td>0.188695</td>\n",
       "      <td>-0.758872</td>\n",
       "      <td>-0.933237</td>\n",
       "      <td>0.955057</td>\n",
       "      <td>4</td>\n",
       "      <td>0.021819</td>\n",
       "    </tr>\n",
       "    <tr>\n",
       "      <th>E</th>\n",
       "      <td>0.190794</td>\n",
       "      <td>1.978757</td>\n",
       "      <td>2.605967</td>\n",
       "      <td>0.683509</td>\n",
       "      <td>5</td>\n",
       "      <td>3.289476</td>\n",
       "    </tr>\n",
       "  </tbody>\n",
       "</table>\n",
       "</div>"
      ],
      "text/plain": [
       "          W         X         Y         Z  new1      new2\n",
       "A  2.706850  0.628133  0.907969  0.503826     1  1.411795\n",
       "B  0.651118 -0.319318 -0.848077  0.605965     2 -0.242112\n",
       "C -2.018168  0.740122  0.528813 -0.589001     3 -0.060187\n",
       "D  0.188695 -0.758872 -0.933237  0.955057     4  0.021819\n",
       "E  0.190794  1.978757  2.605967  0.683509     5  3.289476"
      ]
     },
     "execution_count": 16,
     "metadata": {},
     "output_type": "execute_result"
    }
   ],
   "source": [
    "df"
   ]
  },
  {
   "cell_type": "markdown",
   "id": "8cba4842-f929-4503-a8c6-e36efad8542a",
   "metadata": {},
   "source": [
    "## Removing columns or rows"
   ]
  },
  {
   "cell_type": "markdown",
   "id": "25f61829-f405-4a7d-8fd0-8d711ff31076",
   "metadata": {},
   "source": [
    "To remove row or column use ***drop*** method and pass its name in brackets. it is needed to specify what ***axis*** should be removed, 0 is default which means that row will be deleted, for column type axis=1\n",
    "\n",
    "data frame without removed entity is not overwrited by default, you need assign it to new variable"
   ]
  },
  {
   "cell_type": "code",
   "execution_count": 17,
   "id": "824e25f0-ced2-4d32-8a56-fddcea960356",
   "metadata": {},
   "outputs": [],
   "source": [
    "df2 = df.drop('D')\n",
    "df2 = df.drop('new2',axis=1)"
   ]
  },
  {
   "cell_type": "code",
   "execution_count": 18,
   "id": "1846802b-1f94-40fd-88c9-d8859c6d2b71",
   "metadata": {},
   "outputs": [
    {
     "data": {
      "text/html": [
       "<div>\n",
       "<style scoped>\n",
       "    .dataframe tbody tr th:only-of-type {\n",
       "        vertical-align: middle;\n",
       "    }\n",
       "\n",
       "    .dataframe tbody tr th {\n",
       "        vertical-align: top;\n",
       "    }\n",
       "\n",
       "    .dataframe thead th {\n",
       "        text-align: right;\n",
       "    }\n",
       "</style>\n",
       "<table border=\"1\" class=\"dataframe\">\n",
       "  <thead>\n",
       "    <tr style=\"text-align: right;\">\n",
       "      <th></th>\n",
       "      <th>W</th>\n",
       "      <th>X</th>\n",
       "      <th>Y</th>\n",
       "      <th>Z</th>\n",
       "      <th>new1</th>\n",
       "    </tr>\n",
       "  </thead>\n",
       "  <tbody>\n",
       "    <tr>\n",
       "      <th>A</th>\n",
       "      <td>2.706850</td>\n",
       "      <td>0.628133</td>\n",
       "      <td>0.907969</td>\n",
       "      <td>0.503826</td>\n",
       "      <td>1</td>\n",
       "    </tr>\n",
       "    <tr>\n",
       "      <th>B</th>\n",
       "      <td>0.651118</td>\n",
       "      <td>-0.319318</td>\n",
       "      <td>-0.848077</td>\n",
       "      <td>0.605965</td>\n",
       "      <td>2</td>\n",
       "    </tr>\n",
       "    <tr>\n",
       "      <th>C</th>\n",
       "      <td>-2.018168</td>\n",
       "      <td>0.740122</td>\n",
       "      <td>0.528813</td>\n",
       "      <td>-0.589001</td>\n",
       "      <td>3</td>\n",
       "    </tr>\n",
       "    <tr>\n",
       "      <th>D</th>\n",
       "      <td>0.188695</td>\n",
       "      <td>-0.758872</td>\n",
       "      <td>-0.933237</td>\n",
       "      <td>0.955057</td>\n",
       "      <td>4</td>\n",
       "    </tr>\n",
       "    <tr>\n",
       "      <th>E</th>\n",
       "      <td>0.190794</td>\n",
       "      <td>1.978757</td>\n",
       "      <td>2.605967</td>\n",
       "      <td>0.683509</td>\n",
       "      <td>5</td>\n",
       "    </tr>\n",
       "  </tbody>\n",
       "</table>\n",
       "</div>"
      ],
      "text/plain": [
       "          W         X         Y         Z  new1\n",
       "A  2.706850  0.628133  0.907969  0.503826     1\n",
       "B  0.651118 -0.319318 -0.848077  0.605965     2\n",
       "C -2.018168  0.740122  0.528813 -0.589001     3\n",
       "D  0.188695 -0.758872 -0.933237  0.955057     4\n",
       "E  0.190794  1.978757  2.605967  0.683509     5"
      ]
     },
     "execution_count": 18,
     "metadata": {},
     "output_type": "execute_result"
    }
   ],
   "source": [
    "df2"
   ]
  },
  {
   "cell_type": "code",
   "execution_count": 19,
   "id": "19bf44e6-caea-40a0-bbbe-b4ea22f85ad1",
   "metadata": {},
   "outputs": [
    {
     "data": {
      "text/html": [
       "<div>\n",
       "<style scoped>\n",
       "    .dataframe tbody tr th:only-of-type {\n",
       "        vertical-align: middle;\n",
       "    }\n",
       "\n",
       "    .dataframe tbody tr th {\n",
       "        vertical-align: top;\n",
       "    }\n",
       "\n",
       "    .dataframe thead th {\n",
       "        text-align: right;\n",
       "    }\n",
       "</style>\n",
       "<table border=\"1\" class=\"dataframe\">\n",
       "  <thead>\n",
       "    <tr style=\"text-align: right;\">\n",
       "      <th></th>\n",
       "      <th>W</th>\n",
       "      <th>X</th>\n",
       "      <th>Y</th>\n",
       "      <th>Z</th>\n",
       "      <th>new1</th>\n",
       "      <th>new2</th>\n",
       "    </tr>\n",
       "  </thead>\n",
       "  <tbody>\n",
       "    <tr>\n",
       "      <th>A</th>\n",
       "      <td>2.706850</td>\n",
       "      <td>0.628133</td>\n",
       "      <td>0.907969</td>\n",
       "      <td>0.503826</td>\n",
       "      <td>1</td>\n",
       "      <td>1.411795</td>\n",
       "    </tr>\n",
       "    <tr>\n",
       "      <th>B</th>\n",
       "      <td>0.651118</td>\n",
       "      <td>-0.319318</td>\n",
       "      <td>-0.848077</td>\n",
       "      <td>0.605965</td>\n",
       "      <td>2</td>\n",
       "      <td>-0.242112</td>\n",
       "    </tr>\n",
       "    <tr>\n",
       "      <th>C</th>\n",
       "      <td>-2.018168</td>\n",
       "      <td>0.740122</td>\n",
       "      <td>0.528813</td>\n",
       "      <td>-0.589001</td>\n",
       "      <td>3</td>\n",
       "      <td>-0.060187</td>\n",
       "    </tr>\n",
       "    <tr>\n",
       "      <th>D</th>\n",
       "      <td>0.188695</td>\n",
       "      <td>-0.758872</td>\n",
       "      <td>-0.933237</td>\n",
       "      <td>0.955057</td>\n",
       "      <td>4</td>\n",
       "      <td>0.021819</td>\n",
       "    </tr>\n",
       "    <tr>\n",
       "      <th>E</th>\n",
       "      <td>0.190794</td>\n",
       "      <td>1.978757</td>\n",
       "      <td>2.605967</td>\n",
       "      <td>0.683509</td>\n",
       "      <td>5</td>\n",
       "      <td>3.289476</td>\n",
       "    </tr>\n",
       "  </tbody>\n",
       "</table>\n",
       "</div>"
      ],
      "text/plain": [
       "          W         X         Y         Z  new1      new2\n",
       "A  2.706850  0.628133  0.907969  0.503826     1  1.411795\n",
       "B  0.651118 -0.319318 -0.848077  0.605965     2 -0.242112\n",
       "C -2.018168  0.740122  0.528813 -0.589001     3 -0.060187\n",
       "D  0.188695 -0.758872 -0.933237  0.955057     4  0.021819\n",
       "E  0.190794  1.978757  2.605967  0.683509     5  3.289476"
      ]
     },
     "execution_count": 19,
     "metadata": {},
     "output_type": "execute_result"
    }
   ],
   "source": [
    "df"
   ]
  },
  {
   "cell_type": "markdown",
   "id": "9c2764a9-f71b-4166-b325-8e3e8296ce1d",
   "metadata": {},
   "source": [
    "If you want to overwrite data frame without removed series, type parameter ***inplace=True***"
   ]
  },
  {
   "cell_type": "code",
   "execution_count": 20,
   "id": "0e2bf081-2c1f-42d5-a1f3-f9549b784401",
   "metadata": {},
   "outputs": [],
   "source": [
    "df.drop('new1', axis=1, inplace=True)"
   ]
  },
  {
   "cell_type": "code",
   "execution_count": 21,
   "id": "cb8de492-ca6e-48fb-8d87-c7a7f9bc2b80",
   "metadata": {},
   "outputs": [
    {
     "data": {
      "text/html": [
       "<div>\n",
       "<style scoped>\n",
       "    .dataframe tbody tr th:only-of-type {\n",
       "        vertical-align: middle;\n",
       "    }\n",
       "\n",
       "    .dataframe tbody tr th {\n",
       "        vertical-align: top;\n",
       "    }\n",
       "\n",
       "    .dataframe thead th {\n",
       "        text-align: right;\n",
       "    }\n",
       "</style>\n",
       "<table border=\"1\" class=\"dataframe\">\n",
       "  <thead>\n",
       "    <tr style=\"text-align: right;\">\n",
       "      <th></th>\n",
       "      <th>W</th>\n",
       "      <th>X</th>\n",
       "      <th>Y</th>\n",
       "      <th>Z</th>\n",
       "      <th>new2</th>\n",
       "    </tr>\n",
       "  </thead>\n",
       "  <tbody>\n",
       "    <tr>\n",
       "      <th>A</th>\n",
       "      <td>2.706850</td>\n",
       "      <td>0.628133</td>\n",
       "      <td>0.907969</td>\n",
       "      <td>0.503826</td>\n",
       "      <td>1.411795</td>\n",
       "    </tr>\n",
       "    <tr>\n",
       "      <th>B</th>\n",
       "      <td>0.651118</td>\n",
       "      <td>-0.319318</td>\n",
       "      <td>-0.848077</td>\n",
       "      <td>0.605965</td>\n",
       "      <td>-0.242112</td>\n",
       "    </tr>\n",
       "    <tr>\n",
       "      <th>C</th>\n",
       "      <td>-2.018168</td>\n",
       "      <td>0.740122</td>\n",
       "      <td>0.528813</td>\n",
       "      <td>-0.589001</td>\n",
       "      <td>-0.060187</td>\n",
       "    </tr>\n",
       "    <tr>\n",
       "      <th>D</th>\n",
       "      <td>0.188695</td>\n",
       "      <td>-0.758872</td>\n",
       "      <td>-0.933237</td>\n",
       "      <td>0.955057</td>\n",
       "      <td>0.021819</td>\n",
       "    </tr>\n",
       "    <tr>\n",
       "      <th>E</th>\n",
       "      <td>0.190794</td>\n",
       "      <td>1.978757</td>\n",
       "      <td>2.605967</td>\n",
       "      <td>0.683509</td>\n",
       "      <td>3.289476</td>\n",
       "    </tr>\n",
       "  </tbody>\n",
       "</table>\n",
       "</div>"
      ],
      "text/plain": [
       "          W         X         Y         Z      new2\n",
       "A  2.706850  0.628133  0.907969  0.503826  1.411795\n",
       "B  0.651118 -0.319318 -0.848077  0.605965 -0.242112\n",
       "C -2.018168  0.740122  0.528813 -0.589001 -0.060187\n",
       "D  0.188695 -0.758872 -0.933237  0.955057  0.021819\n",
       "E  0.190794  1.978757  2.605967  0.683509  3.289476"
      ]
     },
     "execution_count": 21,
     "metadata": {},
     "output_type": "execute_result"
    }
   ],
   "source": [
    "df"
   ]
  },
  {
   "cell_type": "markdown",
   "id": "563e8be2-2660-4eeb-a4ef-c7d7e1ba8ac3",
   "metadata": {},
   "source": [
    "## Choosing rows from data frame"
   ]
  },
  {
   "cell_type": "markdown",
   "id": "c701e449-83dd-4310-b3db-d89552cb3fdd",
   "metadata": {},
   "source": [
    "### Choosing rows by label"
   ]
  },
  {
   "cell_type": "markdown",
   "id": "ec18f513-01ba-486a-af8f-f46cc5501c94",
   "metadata": {},
   "source": [
    "To choose row by label, use ***loc*** method and pass row label in sq brackets"
   ]
  },
  {
   "cell_type": "code",
   "execution_count": 22,
   "id": "79af5597-281d-42ea-b9f7-46b47636615f",
   "metadata": {},
   "outputs": [
    {
     "data": {
      "text/plain": [
       "W       2.706850\n",
       "X       0.628133\n",
       "Y       0.907969\n",
       "Z       0.503826\n",
       "new2    1.411795\n",
       "Name: A, dtype: float64"
      ]
     },
     "execution_count": 22,
     "metadata": {},
     "output_type": "execute_result"
    }
   ],
   "source": [
    "df.loc['A']"
   ]
  },
  {
   "cell_type": "markdown",
   "id": "4dc351a0-9a64-475f-b681-550e7d441f71",
   "metadata": {},
   "source": [
    "To choose multiple rows pass a list of labels in sq brackets"
   ]
  },
  {
   "cell_type": "code",
   "execution_count": 23,
   "id": "e210dc6e-1039-4f2f-ba64-4d4cf1964149",
   "metadata": {},
   "outputs": [
    {
     "data": {
      "text/html": [
       "<div>\n",
       "<style scoped>\n",
       "    .dataframe tbody tr th:only-of-type {\n",
       "        vertical-align: middle;\n",
       "    }\n",
       "\n",
       "    .dataframe tbody tr th {\n",
       "        vertical-align: top;\n",
       "    }\n",
       "\n",
       "    .dataframe thead th {\n",
       "        text-align: right;\n",
       "    }\n",
       "</style>\n",
       "<table border=\"1\" class=\"dataframe\">\n",
       "  <thead>\n",
       "    <tr style=\"text-align: right;\">\n",
       "      <th></th>\n",
       "      <th>W</th>\n",
       "      <th>X</th>\n",
       "      <th>Y</th>\n",
       "      <th>Z</th>\n",
       "      <th>new2</th>\n",
       "    </tr>\n",
       "  </thead>\n",
       "  <tbody>\n",
       "    <tr>\n",
       "      <th>C</th>\n",
       "      <td>-2.018168</td>\n",
       "      <td>0.740122</td>\n",
       "      <td>0.528813</td>\n",
       "      <td>-0.589001</td>\n",
       "      <td>-0.060187</td>\n",
       "    </tr>\n",
       "    <tr>\n",
       "      <th>D</th>\n",
       "      <td>0.188695</td>\n",
       "      <td>-0.758872</td>\n",
       "      <td>-0.933237</td>\n",
       "      <td>0.955057</td>\n",
       "      <td>0.021819</td>\n",
       "    </tr>\n",
       "  </tbody>\n",
       "</table>\n",
       "</div>"
      ],
      "text/plain": [
       "          W         X         Y         Z      new2\n",
       "C -2.018168  0.740122  0.528813 -0.589001 -0.060187\n",
       "D  0.188695 -0.758872 -0.933237  0.955057  0.021819"
      ]
     },
     "execution_count": 23,
     "metadata": {},
     "output_type": "execute_result"
    }
   ],
   "source": [
    "df.loc[['C','D']]"
   ]
  },
  {
   "cell_type": "markdown",
   "id": "2a24671a-b03d-424b-b687-14cc1ba45c4c",
   "metadata": {},
   "source": [
    "### Choosing rows by index"
   ]
  },
  {
   "cell_type": "markdown",
   "id": "0ea9ba5f-cdb0-4196-be98-12f66589e5e3",
   "metadata": {},
   "source": [
    "To choose row by index use ***iloc*** method and pass row index in sq brackets"
   ]
  },
  {
   "cell_type": "code",
   "execution_count": 24,
   "id": "f95b5da4-67f5-4f8c-b3f6-4dd1244bae4e",
   "metadata": {},
   "outputs": [
    {
     "data": {
      "text/plain": [
       "W       2.706850\n",
       "X       0.628133\n",
       "Y       0.907969\n",
       "Z       0.503826\n",
       "new2    1.411795\n",
       "Name: A, dtype: float64"
      ]
     },
     "execution_count": 24,
     "metadata": {},
     "output_type": "execute_result"
    }
   ],
   "source": [
    "df.iloc[0]"
   ]
  },
  {
   "cell_type": "markdown",
   "id": "b31e9fb9-8391-4c18-8ee3-53e10183fdb1",
   "metadata": {},
   "source": [
    "To choose multiple rows pass a list as above"
   ]
  },
  {
   "cell_type": "code",
   "execution_count": 25,
   "id": "8608f200-e19f-41d3-98e7-d148d713b404",
   "metadata": {},
   "outputs": [
    {
     "data": {
      "text/html": [
       "<div>\n",
       "<style scoped>\n",
       "    .dataframe tbody tr th:only-of-type {\n",
       "        vertical-align: middle;\n",
       "    }\n",
       "\n",
       "    .dataframe tbody tr th {\n",
       "        vertical-align: top;\n",
       "    }\n",
       "\n",
       "    .dataframe thead th {\n",
       "        text-align: right;\n",
       "    }\n",
       "</style>\n",
       "<table border=\"1\" class=\"dataframe\">\n",
       "  <thead>\n",
       "    <tr style=\"text-align: right;\">\n",
       "      <th></th>\n",
       "      <th>W</th>\n",
       "      <th>X</th>\n",
       "      <th>Y</th>\n",
       "      <th>Z</th>\n",
       "      <th>new2</th>\n",
       "    </tr>\n",
       "  </thead>\n",
       "  <tbody>\n",
       "    <tr>\n",
       "      <th>C</th>\n",
       "      <td>-2.018168</td>\n",
       "      <td>0.740122</td>\n",
       "      <td>0.528813</td>\n",
       "      <td>-0.589001</td>\n",
       "      <td>-0.060187</td>\n",
       "    </tr>\n",
       "    <tr>\n",
       "      <th>D</th>\n",
       "      <td>0.188695</td>\n",
       "      <td>-0.758872</td>\n",
       "      <td>-0.933237</td>\n",
       "      <td>0.955057</td>\n",
       "      <td>0.021819</td>\n",
       "    </tr>\n",
       "  </tbody>\n",
       "</table>\n",
       "</div>"
      ],
      "text/plain": [
       "          W         X         Y         Z      new2\n",
       "C -2.018168  0.740122  0.528813 -0.589001 -0.060187\n",
       "D  0.188695 -0.758872 -0.933237  0.955057  0.021819"
      ]
     },
     "execution_count": 25,
     "metadata": {},
     "output_type": "execute_result"
    }
   ],
   "source": [
    "df.iloc[[2,3]]"
   ]
  },
  {
   "cell_type": "markdown",
   "id": "1fd8cbb3-45e1-4d18-ae34-df7ca02d9b1c",
   "metadata": {},
   "source": [
    "## Choosing subset of dataframe"
   ]
  },
  {
   "cell_type": "markdown",
   "id": "e64fb6b2-fb8d-4b62-b7f9-06663d3c5a2a",
   "metadata": {},
   "source": [
    "### Choosing subset by label"
   ]
  },
  {
   "cell_type": "markdown",
   "id": "3202d742-50e0-4d01-8daf-71ee9acb60ca",
   "metadata": {},
   "source": [
    "To choose subset - for one specific cell use ***loc*** method, then put row label and column label in sq brackets"
   ]
  },
  {
   "cell_type": "code",
   "execution_count": 26,
   "id": "dc5932f0-eaba-4ab6-bcdb-b959debeb7a5",
   "metadata": {},
   "outputs": [
    {
     "data": {
      "text/plain": [
       "-0.8480769834036315"
      ]
     },
     "execution_count": 26,
     "metadata": {},
     "output_type": "execute_result"
    }
   ],
   "source": [
    "df.loc['B','Y']"
   ]
  },
  {
   "cell_type": "markdown",
   "id": "5b1979df-84a1-4ddd-8a3f-8102128e16b9",
   "metadata": {},
   "source": [
    "For multiple cells put choosen row labels and column labels as a list "
   ]
  },
  {
   "cell_type": "code",
   "execution_count": 27,
   "id": "54813174-e1db-4ade-8e06-4396a7e8a8e6",
   "metadata": {},
   "outputs": [
    {
     "data": {
      "text/html": [
       "<div>\n",
       "<style scoped>\n",
       "    .dataframe tbody tr th:only-of-type {\n",
       "        vertical-align: middle;\n",
       "    }\n",
       "\n",
       "    .dataframe tbody tr th {\n",
       "        vertical-align: top;\n",
       "    }\n",
       "\n",
       "    .dataframe thead th {\n",
       "        text-align: right;\n",
       "    }\n",
       "</style>\n",
       "<table border=\"1\" class=\"dataframe\">\n",
       "  <thead>\n",
       "    <tr style=\"text-align: right;\">\n",
       "      <th></th>\n",
       "      <th>W</th>\n",
       "      <th>Y</th>\n",
       "    </tr>\n",
       "  </thead>\n",
       "  <tbody>\n",
       "    <tr>\n",
       "      <th>B</th>\n",
       "      <td>0.651118</td>\n",
       "      <td>-0.848077</td>\n",
       "    </tr>\n",
       "    <tr>\n",
       "      <th>D</th>\n",
       "      <td>0.188695</td>\n",
       "      <td>-0.933237</td>\n",
       "    </tr>\n",
       "  </tbody>\n",
       "</table>\n",
       "</div>"
      ],
      "text/plain": [
       "          W         Y\n",
       "B  0.651118 -0.848077\n",
       "D  0.188695 -0.933237"
      ]
     },
     "execution_count": 27,
     "metadata": {},
     "output_type": "execute_result"
    }
   ],
   "source": [
    "df.loc[['B','D'],['W','Y']]"
   ]
  },
  {
   "cell_type": "markdown",
   "id": "454c7522-ea81-43ee-8083-f4675ac5b86f",
   "metadata": {},
   "source": [
    "### Choosing subset by index"
   ]
  },
  {
   "cell_type": "markdown",
   "id": "74af27a7-80a9-4d87-ab0d-3106959471eb",
   "metadata": {},
   "source": [
    "To choose subset by index use ***iloc*** method instead of loc, and put indexes in sq brackets"
   ]
  },
  {
   "cell_type": "code",
   "execution_count": 28,
   "id": "d42e5ff9-76f4-4378-b050-429a282a26ec",
   "metadata": {},
   "outputs": [
    {
     "data": {
      "text/html": [
       "<div>\n",
       "<style scoped>\n",
       "    .dataframe tbody tr th:only-of-type {\n",
       "        vertical-align: middle;\n",
       "    }\n",
       "\n",
       "    .dataframe tbody tr th {\n",
       "        vertical-align: top;\n",
       "    }\n",
       "\n",
       "    .dataframe thead th {\n",
       "        text-align: right;\n",
       "    }\n",
       "</style>\n",
       "<table border=\"1\" class=\"dataframe\">\n",
       "  <thead>\n",
       "    <tr style=\"text-align: right;\">\n",
       "      <th></th>\n",
       "      <th>W</th>\n",
       "      <th>Y</th>\n",
       "    </tr>\n",
       "  </thead>\n",
       "  <tbody>\n",
       "    <tr>\n",
       "      <th>B</th>\n",
       "      <td>0.651118</td>\n",
       "      <td>-0.848077</td>\n",
       "    </tr>\n",
       "    <tr>\n",
       "      <th>D</th>\n",
       "      <td>0.188695</td>\n",
       "      <td>-0.933237</td>\n",
       "    </tr>\n",
       "  </tbody>\n",
       "</table>\n",
       "</div>"
      ],
      "text/plain": [
       "          W         Y\n",
       "B  0.651118 -0.848077\n",
       "D  0.188695 -0.933237"
      ]
     },
     "execution_count": 28,
     "metadata": {},
     "output_type": "execute_result"
    }
   ],
   "source": [
    "df.iloc[[1,3],[0,2]]"
   ]
  },
  {
   "cell_type": "markdown",
   "id": "29d3d9a7-16b3-4691-93e4-792003af78b2",
   "metadata": {},
   "source": [
    "## Conditional selection"
   ]
  },
  {
   "cell_type": "markdown",
   "id": "15e20173-c71a-4944-8045-0242062f1b2e",
   "metadata": {},
   "source": [
    "### Conditions on whole data frame"
   ]
  },
  {
   "cell_type": "markdown",
   "id": "80e3445f-6567-45f8-92c0-ad766788011b",
   "metadata": {},
   "source": [
    "To check some conditios on data frame, for example which of values are greater than zero just type a condition. It will return data frame of booleans"
   ]
  },
  {
   "cell_type": "code",
   "execution_count": 29,
   "id": "e7115f3d-38d0-4d70-a40f-9c631c8f1903",
   "metadata": {},
   "outputs": [
    {
     "data": {
      "text/html": [
       "<div>\n",
       "<style scoped>\n",
       "    .dataframe tbody tr th:only-of-type {\n",
       "        vertical-align: middle;\n",
       "    }\n",
       "\n",
       "    .dataframe tbody tr th {\n",
       "        vertical-align: top;\n",
       "    }\n",
       "\n",
       "    .dataframe thead th {\n",
       "        text-align: right;\n",
       "    }\n",
       "</style>\n",
       "<table border=\"1\" class=\"dataframe\">\n",
       "  <thead>\n",
       "    <tr style=\"text-align: right;\">\n",
       "      <th></th>\n",
       "      <th>W</th>\n",
       "      <th>X</th>\n",
       "      <th>Y</th>\n",
       "      <th>Z</th>\n",
       "      <th>new2</th>\n",
       "    </tr>\n",
       "  </thead>\n",
       "  <tbody>\n",
       "    <tr>\n",
       "      <th>A</th>\n",
       "      <td>True</td>\n",
       "      <td>True</td>\n",
       "      <td>True</td>\n",
       "      <td>True</td>\n",
       "      <td>True</td>\n",
       "    </tr>\n",
       "    <tr>\n",
       "      <th>B</th>\n",
       "      <td>True</td>\n",
       "      <td>False</td>\n",
       "      <td>False</td>\n",
       "      <td>True</td>\n",
       "      <td>False</td>\n",
       "    </tr>\n",
       "    <tr>\n",
       "      <th>C</th>\n",
       "      <td>False</td>\n",
       "      <td>True</td>\n",
       "      <td>True</td>\n",
       "      <td>False</td>\n",
       "      <td>False</td>\n",
       "    </tr>\n",
       "    <tr>\n",
       "      <th>D</th>\n",
       "      <td>True</td>\n",
       "      <td>False</td>\n",
       "      <td>False</td>\n",
       "      <td>True</td>\n",
       "      <td>True</td>\n",
       "    </tr>\n",
       "    <tr>\n",
       "      <th>E</th>\n",
       "      <td>True</td>\n",
       "      <td>True</td>\n",
       "      <td>True</td>\n",
       "      <td>True</td>\n",
       "      <td>True</td>\n",
       "    </tr>\n",
       "  </tbody>\n",
       "</table>\n",
       "</div>"
      ],
      "text/plain": [
       "       W      X      Y      Z   new2\n",
       "A   True   True   True   True   True\n",
       "B   True  False  False   True  False\n",
       "C  False   True   True  False  False\n",
       "D   True  False  False   True   True\n",
       "E   True   True   True   True   True"
      ]
     },
     "execution_count": 29,
     "metadata": {},
     "output_type": "execute_result"
    }
   ],
   "source": [
    "df > 0"
   ]
  },
  {
   "cell_type": "markdown",
   "id": "af3a8385-f85a-4c2e-941f-39c7a139f0e5",
   "metadata": {},
   "source": [
    "To get back data farame with values that satisfy condition, put condition in sq brackets after data frame "
   ]
  },
  {
   "cell_type": "code",
   "execution_count": 30,
   "id": "c1be341c-08a9-42b9-b408-b678e81df57d",
   "metadata": {},
   "outputs": [
    {
     "data": {
      "text/html": [
       "<div>\n",
       "<style scoped>\n",
       "    .dataframe tbody tr th:only-of-type {\n",
       "        vertical-align: middle;\n",
       "    }\n",
       "\n",
       "    .dataframe tbody tr th {\n",
       "        vertical-align: top;\n",
       "    }\n",
       "\n",
       "    .dataframe thead th {\n",
       "        text-align: right;\n",
       "    }\n",
       "</style>\n",
       "<table border=\"1\" class=\"dataframe\">\n",
       "  <thead>\n",
       "    <tr style=\"text-align: right;\">\n",
       "      <th></th>\n",
       "      <th>W</th>\n",
       "      <th>X</th>\n",
       "      <th>Y</th>\n",
       "      <th>Z</th>\n",
       "      <th>new2</th>\n",
       "    </tr>\n",
       "  </thead>\n",
       "  <tbody>\n",
       "    <tr>\n",
       "      <th>A</th>\n",
       "      <td>2.706850</td>\n",
       "      <td>0.628133</td>\n",
       "      <td>0.907969</td>\n",
       "      <td>0.503826</td>\n",
       "      <td>1.411795</td>\n",
       "    </tr>\n",
       "    <tr>\n",
       "      <th>B</th>\n",
       "      <td>0.651118</td>\n",
       "      <td>NaN</td>\n",
       "      <td>NaN</td>\n",
       "      <td>0.605965</td>\n",
       "      <td>NaN</td>\n",
       "    </tr>\n",
       "    <tr>\n",
       "      <th>C</th>\n",
       "      <td>NaN</td>\n",
       "      <td>0.740122</td>\n",
       "      <td>0.528813</td>\n",
       "      <td>NaN</td>\n",
       "      <td>NaN</td>\n",
       "    </tr>\n",
       "    <tr>\n",
       "      <th>D</th>\n",
       "      <td>0.188695</td>\n",
       "      <td>NaN</td>\n",
       "      <td>NaN</td>\n",
       "      <td>0.955057</td>\n",
       "      <td>0.021819</td>\n",
       "    </tr>\n",
       "    <tr>\n",
       "      <th>E</th>\n",
       "      <td>0.190794</td>\n",
       "      <td>1.978757</td>\n",
       "      <td>2.605967</td>\n",
       "      <td>0.683509</td>\n",
       "      <td>3.289476</td>\n",
       "    </tr>\n",
       "  </tbody>\n",
       "</table>\n",
       "</div>"
      ],
      "text/plain": [
       "          W         X         Y         Z      new2\n",
       "A  2.706850  0.628133  0.907969  0.503826  1.411795\n",
       "B  0.651118       NaN       NaN  0.605965       NaN\n",
       "C       NaN  0.740122  0.528813       NaN       NaN\n",
       "D  0.188695       NaN       NaN  0.955057  0.021819\n",
       "E  0.190794  1.978757  2.605967  0.683509  3.289476"
      ]
     },
     "execution_count": 30,
     "metadata": {},
     "output_type": "execute_result"
    }
   ],
   "source": [
    "df[df>0]"
   ]
  },
  {
   "cell_type": "markdown",
   "id": "b433a260-b7e7-43b5-9dc3-0f22ee54fe9a",
   "metadata": {},
   "source": [
    "### Get rows by column condition"
   ]
  },
  {
   "cell_type": "markdown",
   "id": "2d78e873-7859-49a0-b5aa-61e38e6d1785",
   "metadata": {},
   "source": [
    "To get only rows in which a condition is satisfied for specific column, type that column and its condition on sq brackets on data frame"
   ]
  },
  {
   "cell_type": "code",
   "execution_count": 31,
   "id": "61693c62-4d25-47c7-8d85-d800f730f641",
   "metadata": {},
   "outputs": [
    {
     "data": {
      "text/html": [
       "<div>\n",
       "<style scoped>\n",
       "    .dataframe tbody tr th:only-of-type {\n",
       "        vertical-align: middle;\n",
       "    }\n",
       "\n",
       "    .dataframe tbody tr th {\n",
       "        vertical-align: top;\n",
       "    }\n",
       "\n",
       "    .dataframe thead th {\n",
       "        text-align: right;\n",
       "    }\n",
       "</style>\n",
       "<table border=\"1\" class=\"dataframe\">\n",
       "  <thead>\n",
       "    <tr style=\"text-align: right;\">\n",
       "      <th></th>\n",
       "      <th>W</th>\n",
       "      <th>X</th>\n",
       "      <th>Y</th>\n",
       "      <th>Z</th>\n",
       "      <th>new2</th>\n",
       "    </tr>\n",
       "  </thead>\n",
       "  <tbody>\n",
       "    <tr>\n",
       "      <th>A</th>\n",
       "      <td>2.706850</td>\n",
       "      <td>0.628133</td>\n",
       "      <td>0.907969</td>\n",
       "      <td>0.503826</td>\n",
       "      <td>1.411795</td>\n",
       "    </tr>\n",
       "    <tr>\n",
       "      <th>C</th>\n",
       "      <td>-2.018168</td>\n",
       "      <td>0.740122</td>\n",
       "      <td>0.528813</td>\n",
       "      <td>-0.589001</td>\n",
       "      <td>-0.060187</td>\n",
       "    </tr>\n",
       "    <tr>\n",
       "      <th>E</th>\n",
       "      <td>0.190794</td>\n",
       "      <td>1.978757</td>\n",
       "      <td>2.605967</td>\n",
       "      <td>0.683509</td>\n",
       "      <td>3.289476</td>\n",
       "    </tr>\n",
       "  </tbody>\n",
       "</table>\n",
       "</div>"
      ],
      "text/plain": [
       "          W         X         Y         Z      new2\n",
       "A  2.706850  0.628133  0.907969  0.503826  1.411795\n",
       "C -2.018168  0.740122  0.528813 -0.589001 -0.060187\n",
       "E  0.190794  1.978757  2.605967  0.683509  3.289476"
      ]
     },
     "execution_count": 31,
     "metadata": {},
     "output_type": "execute_result"
    }
   ],
   "source": [
    "df[df['X']>0]"
   ]
  },
  {
   "cell_type": "markdown",
   "id": "6a9d5387-723f-4567-99c7-8c01ed5dc234",
   "metadata": {},
   "source": [
    "It returns only columns A, C, E, because for B and D value in column 'X' was lesser than 0"
   ]
  },
  {
   "cell_type": "markdown",
   "id": "7855418b-19b0-44a6-a51e-269a6a43d297",
   "metadata": {},
   "source": [
    "### Get rows/columns from data frame after condition selecting"
   ]
  },
  {
   "cell_type": "markdown",
   "id": "a62d0481-c2de-4545-a131-bc37777d8106",
   "metadata": {},
   "source": [
    "To get an column from processed dataframe you can do it in two steps by assigning it to new variable and choose column in sq brackets:"
   ]
  },
  {
   "cell_type": "code",
   "execution_count": 32,
   "id": "2c7ea2cd-ef36-4399-877b-9e75ca5ca570",
   "metadata": {},
   "outputs": [
    {
     "data": {
      "text/plain": [
       "A    0.503826\n",
       "C   -0.589001\n",
       "E    0.683509\n",
       "Name: Z, dtype: float64"
      ]
     },
     "execution_count": 32,
     "metadata": {},
     "output_type": "execute_result"
    }
   ],
   "source": [
    "new_df = df[df['X']>0]\n",
    "new_df['Z']"
   ]
  },
  {
   "cell_type": "markdown",
   "id": "3136e5e9-5bef-4010-8fc7-b0ecf87e406c",
   "metadata": {},
   "source": [
    "Or in one step puting sq brackets with selected column after conditional expression:"
   ]
  },
  {
   "cell_type": "code",
   "execution_count": 33,
   "id": "7e0b4aec-2ce3-4b43-b906-9db3611be8d9",
   "metadata": {},
   "outputs": [
    {
     "data": {
      "text/plain": [
       "A    0.503826\n",
       "C   -0.589001\n",
       "E    0.683509\n",
       "Name: Z, dtype: float64"
      ]
     },
     "execution_count": 33,
     "metadata": {},
     "output_type": "execute_result"
    }
   ],
   "source": [
    "df[df['X']>0]['Z']"
   ]
  },
  {
   "cell_type": "markdown",
   "id": "910cbd05-85ce-4568-b1e7-6d65f5477893",
   "metadata": {},
   "source": [
    "Row selection works the same, just use ***loc*** or ***iloc*** method"
   ]
  },
  {
   "cell_type": "code",
   "execution_count": 34,
   "id": "cbd11f8a-68b1-4626-9efb-67dad89575f0",
   "metadata": {},
   "outputs": [
    {
     "data": {
      "text/plain": [
       "W      -2.018168\n",
       "X       0.740122\n",
       "Y       0.528813\n",
       "Z      -0.589001\n",
       "new2   -0.060187\n",
       "Name: C, dtype: float64"
      ]
     },
     "execution_count": 34,
     "metadata": {},
     "output_type": "execute_result"
    }
   ],
   "source": [
    "df[df['X']>0].loc['C']"
   ]
  },
  {
   "cell_type": "markdown",
   "id": "0c361c0e-6dfc-4643-8fd2-ac7df9666eac",
   "metadata": {},
   "source": [
    "### Multiple conditions"
   ]
  },
  {
   "cell_type": "markdown",
   "id": "d12b187c-b3ae-4bed-8efb-9f05a297b568",
   "metadata": {},
   "source": [
    "To set multiple conditions put them in brackets and separate it by logical operation mark\n",
    "\n",
    "***IMPORTANT:***\n",
    "\n",
    "Instead of ***and*** - use ***&***\n",
    "\n",
    "instead of ***or*** - use ***|***"
   ]
  },
  {
   "cell_type": "code",
   "execution_count": 35,
   "id": "79c3f41f-5c5a-4d3c-ab10-37e12055dafa",
   "metadata": {},
   "outputs": [
    {
     "data": {
      "text/html": [
       "<div>\n",
       "<style scoped>\n",
       "    .dataframe tbody tr th:only-of-type {\n",
       "        vertical-align: middle;\n",
       "    }\n",
       "\n",
       "    .dataframe tbody tr th {\n",
       "        vertical-align: top;\n",
       "    }\n",
       "\n",
       "    .dataframe thead th {\n",
       "        text-align: right;\n",
       "    }\n",
       "</style>\n",
       "<table border=\"1\" class=\"dataframe\">\n",
       "  <thead>\n",
       "    <tr style=\"text-align: right;\">\n",
       "      <th></th>\n",
       "      <th>W</th>\n",
       "      <th>X</th>\n",
       "      <th>Y</th>\n",
       "      <th>Z</th>\n",
       "      <th>new2</th>\n",
       "    </tr>\n",
       "  </thead>\n",
       "  <tbody>\n",
       "    <tr>\n",
       "      <th>A</th>\n",
       "      <td>2.706850</td>\n",
       "      <td>0.628133</td>\n",
       "      <td>0.907969</td>\n",
       "      <td>0.503826</td>\n",
       "      <td>1.411795</td>\n",
       "    </tr>\n",
       "    <tr>\n",
       "      <th>B</th>\n",
       "      <td>0.651118</td>\n",
       "      <td>-0.319318</td>\n",
       "      <td>-0.848077</td>\n",
       "      <td>0.605965</td>\n",
       "      <td>-0.242112</td>\n",
       "    </tr>\n",
       "    <tr>\n",
       "      <th>D</th>\n",
       "      <td>0.188695</td>\n",
       "      <td>-0.758872</td>\n",
       "      <td>-0.933237</td>\n",
       "      <td>0.955057</td>\n",
       "      <td>0.021819</td>\n",
       "    </tr>\n",
       "  </tbody>\n",
       "</table>\n",
       "</div>"
      ],
      "text/plain": [
       "          W         X         Y         Z      new2\n",
       "A  2.706850  0.628133  0.907969  0.503826  1.411795\n",
       "B  0.651118 -0.319318 -0.848077  0.605965 -0.242112\n",
       "D  0.188695 -0.758872 -0.933237  0.955057  0.021819"
      ]
     },
     "execution_count": 35,
     "metadata": {},
     "output_type": "execute_result"
    }
   ],
   "source": [
    "df[(df['W']>0) & (df['Y']<1)]"
   ]
  },
  {
   "cell_type": "markdown",
   "id": "4873c6bc-d59b-4212-bdcf-8219f0a1c476",
   "metadata": {},
   "source": [
    "## Index operations"
   ]
  },
  {
   "cell_type": "markdown",
   "id": "4fd1fc26-d310-45be-b8ce-2c45c9383fe6",
   "metadata": {},
   "source": [
    "### Reset index to default"
   ]
  },
  {
   "cell_type": "markdown",
   "id": "aa741999-bd97-40da-a6a4-206405070145",
   "metadata": {},
   "source": [
    "To reset index to default state, use ***reset_index*** method"
   ]
  },
  {
   "cell_type": "code",
   "execution_count": 36,
   "id": "b636b145-ffc4-42a2-84e3-b8871c610133",
   "metadata": {},
   "outputs": [
    {
     "data": {
      "text/html": [
       "<div>\n",
       "<style scoped>\n",
       "    .dataframe tbody tr th:only-of-type {\n",
       "        vertical-align: middle;\n",
       "    }\n",
       "\n",
       "    .dataframe tbody tr th {\n",
       "        vertical-align: top;\n",
       "    }\n",
       "\n",
       "    .dataframe thead th {\n",
       "        text-align: right;\n",
       "    }\n",
       "</style>\n",
       "<table border=\"1\" class=\"dataframe\">\n",
       "  <thead>\n",
       "    <tr style=\"text-align: right;\">\n",
       "      <th></th>\n",
       "      <th>index</th>\n",
       "      <th>W</th>\n",
       "      <th>X</th>\n",
       "      <th>Y</th>\n",
       "      <th>Z</th>\n",
       "      <th>new2</th>\n",
       "    </tr>\n",
       "  </thead>\n",
       "  <tbody>\n",
       "    <tr>\n",
       "      <th>0</th>\n",
       "      <td>A</td>\n",
       "      <td>2.706850</td>\n",
       "      <td>0.628133</td>\n",
       "      <td>0.907969</td>\n",
       "      <td>0.503826</td>\n",
       "      <td>1.411795</td>\n",
       "    </tr>\n",
       "    <tr>\n",
       "      <th>1</th>\n",
       "      <td>B</td>\n",
       "      <td>0.651118</td>\n",
       "      <td>-0.319318</td>\n",
       "      <td>-0.848077</td>\n",
       "      <td>0.605965</td>\n",
       "      <td>-0.242112</td>\n",
       "    </tr>\n",
       "    <tr>\n",
       "      <th>2</th>\n",
       "      <td>C</td>\n",
       "      <td>-2.018168</td>\n",
       "      <td>0.740122</td>\n",
       "      <td>0.528813</td>\n",
       "      <td>-0.589001</td>\n",
       "      <td>-0.060187</td>\n",
       "    </tr>\n",
       "    <tr>\n",
       "      <th>3</th>\n",
       "      <td>D</td>\n",
       "      <td>0.188695</td>\n",
       "      <td>-0.758872</td>\n",
       "      <td>-0.933237</td>\n",
       "      <td>0.955057</td>\n",
       "      <td>0.021819</td>\n",
       "    </tr>\n",
       "    <tr>\n",
       "      <th>4</th>\n",
       "      <td>E</td>\n",
       "      <td>0.190794</td>\n",
       "      <td>1.978757</td>\n",
       "      <td>2.605967</td>\n",
       "      <td>0.683509</td>\n",
       "      <td>3.289476</td>\n",
       "    </tr>\n",
       "  </tbody>\n",
       "</table>\n",
       "</div>"
      ],
      "text/plain": [
       "  index         W         X         Y         Z      new2\n",
       "0     A  2.706850  0.628133  0.907969  0.503826  1.411795\n",
       "1     B  0.651118 -0.319318 -0.848077  0.605965 -0.242112\n",
       "2     C -2.018168  0.740122  0.528813 -0.589001 -0.060187\n",
       "3     D  0.188695 -0.758872 -0.933237  0.955057  0.021819\n",
       "4     E  0.190794  1.978757  2.605967  0.683509  3.289476"
      ]
     },
     "execution_count": 36,
     "metadata": {},
     "output_type": "execute_result"
    }
   ],
   "source": [
    "df.reset_index(inplace=True)\n",
    "df"
   ]
  },
  {
   "cell_type": "markdown",
   "id": "b3e0972d-b080-4df6-8bc9-eb5c0d2475f7",
   "metadata": {},
   "source": [
    "After that the old index column will appear as a new column, and actual indexes will be reseted to default. *Remember to use __inplace=True__ if you want owerwrite changes*"
   ]
  },
  {
   "cell_type": "markdown",
   "id": "8fc3244e-b77e-4704-ab3f-972e387dfbf1",
   "metadata": {},
   "source": [
    "### Set new index column"
   ]
  },
  {
   "cell_type": "markdown",
   "id": "d53338f3-467d-49c5-9fd7-7497dcc36d46",
   "metadata": {},
   "source": [
    "To set new index column, first you must add new column to dataset with demanded index "
   ]
  },
  {
   "cell_type": "code",
   "execution_count": 37,
   "id": "3989ab4a-bf18-4efb-9b06-830b653cb17b",
   "metadata": {},
   "outputs": [],
   "source": [
    "new_index = 'FIRST SECOND THIRD FOURTH FIFTH'.split()"
   ]
  },
  {
   "cell_type": "code",
   "execution_count": 38,
   "id": "36eb3385-7600-441f-84c1-283d90f72385",
   "metadata": {},
   "outputs": [],
   "source": [
    "df['new_index'] = new_index"
   ]
  },
  {
   "cell_type": "markdown",
   "id": "a67c9d41-4688-476b-887b-5d0304b46ba3",
   "metadata": {},
   "source": [
    "Then use ***set_index*** method to set that column to index column"
   ]
  },
  {
   "cell_type": "code",
   "execution_count": 39,
   "id": "145b19be-9ae1-4240-b4e6-3b74ed209dcd",
   "metadata": {},
   "outputs": [],
   "source": [
    "df.set_index('new_index', inplace=True)"
   ]
  },
  {
   "cell_type": "code",
   "execution_count": 40,
   "id": "ab40843e-e207-4e2c-bf02-702f2fa4ebf5",
   "metadata": {},
   "outputs": [
    {
     "data": {
      "text/html": [
       "<div>\n",
       "<style scoped>\n",
       "    .dataframe tbody tr th:only-of-type {\n",
       "        vertical-align: middle;\n",
       "    }\n",
       "\n",
       "    .dataframe tbody tr th {\n",
       "        vertical-align: top;\n",
       "    }\n",
       "\n",
       "    .dataframe thead th {\n",
       "        text-align: right;\n",
       "    }\n",
       "</style>\n",
       "<table border=\"1\" class=\"dataframe\">\n",
       "  <thead>\n",
       "    <tr style=\"text-align: right;\">\n",
       "      <th></th>\n",
       "      <th>index</th>\n",
       "      <th>W</th>\n",
       "      <th>X</th>\n",
       "      <th>Y</th>\n",
       "      <th>Z</th>\n",
       "      <th>new2</th>\n",
       "    </tr>\n",
       "    <tr>\n",
       "      <th>new_index</th>\n",
       "      <th></th>\n",
       "      <th></th>\n",
       "      <th></th>\n",
       "      <th></th>\n",
       "      <th></th>\n",
       "      <th></th>\n",
       "    </tr>\n",
       "  </thead>\n",
       "  <tbody>\n",
       "    <tr>\n",
       "      <th>FIRST</th>\n",
       "      <td>A</td>\n",
       "      <td>2.706850</td>\n",
       "      <td>0.628133</td>\n",
       "      <td>0.907969</td>\n",
       "      <td>0.503826</td>\n",
       "      <td>1.411795</td>\n",
       "    </tr>\n",
       "    <tr>\n",
       "      <th>SECOND</th>\n",
       "      <td>B</td>\n",
       "      <td>0.651118</td>\n",
       "      <td>-0.319318</td>\n",
       "      <td>-0.848077</td>\n",
       "      <td>0.605965</td>\n",
       "      <td>-0.242112</td>\n",
       "    </tr>\n",
       "    <tr>\n",
       "      <th>THIRD</th>\n",
       "      <td>C</td>\n",
       "      <td>-2.018168</td>\n",
       "      <td>0.740122</td>\n",
       "      <td>0.528813</td>\n",
       "      <td>-0.589001</td>\n",
       "      <td>-0.060187</td>\n",
       "    </tr>\n",
       "    <tr>\n",
       "      <th>FOURTH</th>\n",
       "      <td>D</td>\n",
       "      <td>0.188695</td>\n",
       "      <td>-0.758872</td>\n",
       "      <td>-0.933237</td>\n",
       "      <td>0.955057</td>\n",
       "      <td>0.021819</td>\n",
       "    </tr>\n",
       "    <tr>\n",
       "      <th>FIFTH</th>\n",
       "      <td>E</td>\n",
       "      <td>0.190794</td>\n",
       "      <td>1.978757</td>\n",
       "      <td>2.605967</td>\n",
       "      <td>0.683509</td>\n",
       "      <td>3.289476</td>\n",
       "    </tr>\n",
       "  </tbody>\n",
       "</table>\n",
       "</div>"
      ],
      "text/plain": [
       "          index         W         X         Y         Z      new2\n",
       "new_index                                                        \n",
       "FIRST         A  2.706850  0.628133  0.907969  0.503826  1.411795\n",
       "SECOND        B  0.651118 -0.319318 -0.848077  0.605965 -0.242112\n",
       "THIRD         C -2.018168  0.740122  0.528813 -0.589001 -0.060187\n",
       "FOURTH        D  0.188695 -0.758872 -0.933237  0.955057  0.021819\n",
       "FIFTH         E  0.190794  1.978757  2.605967  0.683509  3.289476"
      ]
     },
     "execution_count": 40,
     "metadata": {},
     "output_type": "execute_result"
    }
   ],
   "source": [
    "df"
   ]
  },
  {
   "cell_type": "markdown",
   "id": "5e8eaaca-3342-403a-96b0-3a13b8826d2a",
   "metadata": {},
   "source": [
    "## Multi index level"
   ]
  },
  {
   "cell_type": "code",
   "execution_count": 41,
   "id": "e0d1e4a0-0784-4687-9c0a-6495f1209896",
   "metadata": {},
   "outputs": [],
   "source": [
    "ind1 = ['Object1', 'Object1', 'Object1', 'Object2', 'Object2', 'Object2']\n",
    "ind2 = ['1','2','3','1','2','3']\n",
    "multi_ind = list(zip(ind1, ind2))\n",
    "multi_ind = pd.MultiIndex.from_tuples(multi_ind)"
   ]
  },
  {
   "cell_type": "code",
   "execution_count": 42,
   "id": "92a294fe-e68b-428c-916f-86720ab60428",
   "metadata": {},
   "outputs": [
    {
     "data": {
      "text/html": [
       "<div>\n",
       "<style scoped>\n",
       "    .dataframe tbody tr th:only-of-type {\n",
       "        vertical-align: middle;\n",
       "    }\n",
       "\n",
       "    .dataframe tbody tr th {\n",
       "        vertical-align: top;\n",
       "    }\n",
       "\n",
       "    .dataframe thead th {\n",
       "        text-align: right;\n",
       "    }\n",
       "</style>\n",
       "<table border=\"1\" class=\"dataframe\">\n",
       "  <thead>\n",
       "    <tr style=\"text-align: right;\">\n",
       "      <th></th>\n",
       "      <th></th>\n",
       "      <th>A</th>\n",
       "      <th>B</th>\n",
       "    </tr>\n",
       "  </thead>\n",
       "  <tbody>\n",
       "    <tr>\n",
       "      <th rowspan=\"3\" valign=\"top\">Object1</th>\n",
       "      <th>1</th>\n",
       "      <td>0.302665</td>\n",
       "      <td>1.693723</td>\n",
       "    </tr>\n",
       "    <tr>\n",
       "      <th>2</th>\n",
       "      <td>-1.706086</td>\n",
       "      <td>-1.159119</td>\n",
       "    </tr>\n",
       "    <tr>\n",
       "      <th>3</th>\n",
       "      <td>-0.134841</td>\n",
       "      <td>0.390528</td>\n",
       "    </tr>\n",
       "    <tr>\n",
       "      <th rowspan=\"3\" valign=\"top\">Object2</th>\n",
       "      <th>1</th>\n",
       "      <td>0.166905</td>\n",
       "      <td>0.184502</td>\n",
       "    </tr>\n",
       "    <tr>\n",
       "      <th>2</th>\n",
       "      <td>0.807706</td>\n",
       "      <td>0.072960</td>\n",
       "    </tr>\n",
       "    <tr>\n",
       "      <th>3</th>\n",
       "      <td>0.638787</td>\n",
       "      <td>0.329646</td>\n",
       "    </tr>\n",
       "  </tbody>\n",
       "</table>\n",
       "</div>"
      ],
      "text/plain": [
       "                  A         B\n",
       "Object1 1  0.302665  1.693723\n",
       "        2 -1.706086 -1.159119\n",
       "        3 -0.134841  0.390528\n",
       "Object2 1  0.166905  0.184502\n",
       "        2  0.807706  0.072960\n",
       "        3  0.638787  0.329646"
      ]
     },
     "execution_count": 42,
     "metadata": {},
     "output_type": "execute_result"
    }
   ],
   "source": [
    "df = pd.DataFrame(np.random.randn(6,2),multi_ind,['A','B'])\n",
    "df"
   ]
  },
  {
   "cell_type": "markdown",
   "id": "89accd21-bf84-4432-8f91-b4eddc643126",
   "metadata": {},
   "source": [
    "### Naming of indexes"
   ]
  },
  {
   "cell_type": "markdown",
   "id": "2eaa2824-b735-4114-9e64-97f037d1a349",
   "metadata": {},
   "source": [
    "To add names of index columns use ***index.names*** and assign list of names"
   ]
  },
  {
   "cell_type": "code",
   "execution_count": 46,
   "id": "763bba78-b976-4b2a-9090-98e01d68c2e4",
   "metadata": {},
   "outputs": [],
   "source": [
    "df.index.names = ['Element','Feature']"
   ]
  },
  {
   "cell_type": "code",
   "execution_count": 48,
   "id": "40bef625-c69a-4687-b6ac-5213535d5a73",
   "metadata": {},
   "outputs": [
    {
     "data": {
      "text/html": [
       "<div>\n",
       "<style scoped>\n",
       "    .dataframe tbody tr th:only-of-type {\n",
       "        vertical-align: middle;\n",
       "    }\n",
       "\n",
       "    .dataframe tbody tr th {\n",
       "        vertical-align: top;\n",
       "    }\n",
       "\n",
       "    .dataframe thead th {\n",
       "        text-align: right;\n",
       "    }\n",
       "</style>\n",
       "<table border=\"1\" class=\"dataframe\">\n",
       "  <thead>\n",
       "    <tr style=\"text-align: right;\">\n",
       "      <th></th>\n",
       "      <th></th>\n",
       "      <th>A</th>\n",
       "      <th>B</th>\n",
       "    </tr>\n",
       "    <tr>\n",
       "      <th>Element</th>\n",
       "      <th>Feature</th>\n",
       "      <th></th>\n",
       "      <th></th>\n",
       "    </tr>\n",
       "  </thead>\n",
       "  <tbody>\n",
       "    <tr>\n",
       "      <th rowspan=\"3\" valign=\"top\">Object1</th>\n",
       "      <th>1</th>\n",
       "      <td>0.302665</td>\n",
       "      <td>1.693723</td>\n",
       "    </tr>\n",
       "    <tr>\n",
       "      <th>2</th>\n",
       "      <td>-1.706086</td>\n",
       "      <td>-1.159119</td>\n",
       "    </tr>\n",
       "    <tr>\n",
       "      <th>3</th>\n",
       "      <td>-0.134841</td>\n",
       "      <td>0.390528</td>\n",
       "    </tr>\n",
       "    <tr>\n",
       "      <th rowspan=\"3\" valign=\"top\">Object2</th>\n",
       "      <th>1</th>\n",
       "      <td>0.166905</td>\n",
       "      <td>0.184502</td>\n",
       "    </tr>\n",
       "    <tr>\n",
       "      <th>2</th>\n",
       "      <td>0.807706</td>\n",
       "      <td>0.072960</td>\n",
       "    </tr>\n",
       "    <tr>\n",
       "      <th>3</th>\n",
       "      <td>0.638787</td>\n",
       "      <td>0.329646</td>\n",
       "    </tr>\n",
       "  </tbody>\n",
       "</table>\n",
       "</div>"
      ],
      "text/plain": [
       "                        A         B\n",
       "Element Feature                    \n",
       "Object1 1        0.302665  1.693723\n",
       "        2       -1.706086 -1.159119\n",
       "        3       -0.134841  0.390528\n",
       "Object2 1        0.166905  0.184502\n",
       "        2        0.807706  0.072960\n",
       "        3        0.638787  0.329646"
      ]
     },
     "execution_count": 48,
     "metadata": {},
     "output_type": "execute_result"
    }
   ],
   "source": [
    "df"
   ]
  },
  {
   "cell_type": "markdown",
   "id": "76974423-aae1-4628-a4b4-81f14947351c",
   "metadata": {},
   "source": [
    "### Accesing multi-indexed values"
   ]
  },
  {
   "cell_type": "markdown",
   "id": "fea1e323-1006-4a97-8ab9-d97a76fc850b",
   "metadata": {},
   "source": [
    "To access in exmple **Object2** then inside access **2** row, use two times ***loc*** or ***iloc*** method"
   ]
  },
  {
   "cell_type": "code",
   "execution_count": 53,
   "id": "b3656bef-0920-4450-bb6a-4d46e50ebe42",
   "metadata": {},
   "outputs": [
    {
     "data": {
      "text/plain": [
       "A    0.807706\n",
       "B    0.072960\n",
       "Name: 2, dtype: float64"
      ]
     },
     "execution_count": 53,
     "metadata": {},
     "output_type": "execute_result"
    }
   ],
   "source": [
    "df.loc['Object2'].loc['2']"
   ]
  },
  {
   "cell_type": "markdown",
   "id": "0bd28bf0-bf30-4ed3-ac50-20bba5e97558",
   "metadata": {},
   "source": [
    "Then to acces one specific value pass column name after expression"
   ]
  },
  {
   "cell_type": "code",
   "execution_count": 54,
   "id": "7ef3625e-bfff-430a-910c-cc0300fa6db9",
   "metadata": {},
   "outputs": [
    {
     "data": {
      "text/plain": [
       "0.07295967531703869"
      ]
     },
     "execution_count": 54,
     "metadata": {},
     "output_type": "execute_result"
    }
   ],
   "source": [
    "df.loc['Object2'].loc['2']['B']"
   ]
  },
  {
   "cell_type": "markdown",
   "id": "fadab613-bf72-4c60-86c7-c70997e423e4",
   "metadata": {},
   "source": [
    "### Cross-section (accesing all specific sub-index in data frame)"
   ]
  },
  {
   "cell_type": "markdown",
   "id": "b9f2a8a6-712c-4442-8942-70092caa769c",
   "metadata": {},
   "source": [
    "To get all occurrences of sub-index use ***xs*** mthod and pas as an arguments value of index, and level of index"
   ]
  },
  {
   "cell_type": "code",
   "execution_count": 56,
   "id": "8612ba6c-3123-4981-bf89-0da725ee994c",
   "metadata": {},
   "outputs": [
    {
     "data": {
      "text/html": [
       "<div>\n",
       "<style scoped>\n",
       "    .dataframe tbody tr th:only-of-type {\n",
       "        vertical-align: middle;\n",
       "    }\n",
       "\n",
       "    .dataframe tbody tr th {\n",
       "        vertical-align: top;\n",
       "    }\n",
       "\n",
       "    .dataframe thead th {\n",
       "        text-align: right;\n",
       "    }\n",
       "</style>\n",
       "<table border=\"1\" class=\"dataframe\">\n",
       "  <thead>\n",
       "    <tr style=\"text-align: right;\">\n",
       "      <th></th>\n",
       "      <th>A</th>\n",
       "      <th>B</th>\n",
       "    </tr>\n",
       "    <tr>\n",
       "      <th>Element</th>\n",
       "      <th></th>\n",
       "      <th></th>\n",
       "    </tr>\n",
       "  </thead>\n",
       "  <tbody>\n",
       "    <tr>\n",
       "      <th>Object1</th>\n",
       "      <td>0.302665</td>\n",
       "      <td>1.693723</td>\n",
       "    </tr>\n",
       "    <tr>\n",
       "      <th>Object2</th>\n",
       "      <td>0.166905</td>\n",
       "      <td>0.184502</td>\n",
       "    </tr>\n",
       "  </tbody>\n",
       "</table>\n",
       "</div>"
      ],
      "text/plain": [
       "                A         B\n",
       "Element                    \n",
       "Object1  0.302665  1.693723\n",
       "Object2  0.166905  0.184502"
      ]
     },
     "execution_count": 56,
     "metadata": {},
     "output_type": "execute_result"
    }
   ],
   "source": [
    "df.xs('1',level='Feature')"
   ]
  },
  {
   "cell_type": "markdown",
   "id": "9b4adf47-91a6-4396-a6fa-7ed15cce4de5",
   "metadata": {},
   "source": [
    "## Dropping NaN values"
   ]
  },
  {
   "cell_type": "code",
   "execution_count": 70,
   "id": "bd01f747-d483-47b9-a172-bef4f2beadda",
   "metadata": {},
   "outputs": [
    {
     "data": {
      "text/html": [
       "<div>\n",
       "<style scoped>\n",
       "    .dataframe tbody tr th:only-of-type {\n",
       "        vertical-align: middle;\n",
       "    }\n",
       "\n",
       "    .dataframe tbody tr th {\n",
       "        vertical-align: top;\n",
       "    }\n",
       "\n",
       "    .dataframe thead th {\n",
       "        text-align: right;\n",
       "    }\n",
       "</style>\n",
       "<table border=\"1\" class=\"dataframe\">\n",
       "  <thead>\n",
       "    <tr style=\"text-align: right;\">\n",
       "      <th></th>\n",
       "      <th>A</th>\n",
       "      <th>B</th>\n",
       "      <th>C</th>\n",
       "      <th>D</th>\n",
       "    </tr>\n",
       "  </thead>\n",
       "  <tbody>\n",
       "    <tr>\n",
       "      <th>0</th>\n",
       "      <td>0</td>\n",
       "      <td>4.0</td>\n",
       "      <td>7.0</td>\n",
       "      <td>9.0</td>\n",
       "    </tr>\n",
       "    <tr>\n",
       "      <th>1</th>\n",
       "      <td>1</td>\n",
       "      <td>5.0</td>\n",
       "      <td>8.0</td>\n",
       "      <td>NaN</td>\n",
       "    </tr>\n",
       "    <tr>\n",
       "      <th>2</th>\n",
       "      <td>2</td>\n",
       "      <td>6.0</td>\n",
       "      <td>NaN</td>\n",
       "      <td>NaN</td>\n",
       "    </tr>\n",
       "    <tr>\n",
       "      <th>3</th>\n",
       "      <td>3</td>\n",
       "      <td>NaN</td>\n",
       "      <td>NaN</td>\n",
       "      <td>NaN</td>\n",
       "    </tr>\n",
       "  </tbody>\n",
       "</table>\n",
       "</div>"
      ],
      "text/plain": [
       "   A    B    C    D\n",
       "0  0  4.0  7.0  9.0\n",
       "1  1  5.0  8.0  NaN\n",
       "2  2  6.0  NaN  NaN\n",
       "3  3  NaN  NaN  NaN"
      ]
     },
     "execution_count": 70,
     "metadata": {},
     "output_type": "execute_result"
    }
   ],
   "source": [
    "data = {'A':[0,1,2,3],'B':[4,5,6,np.nan],'C':[7,8,np.nan,np.nan],'D':[9,np.nan,np.nan,np.nan]}\n",
    "df = pd.DataFrame(data)\n",
    "df"
   ]
  },
  {
   "cell_type": "markdown",
   "id": "323c90e1-2863-4832-8181-45b22afe18f2",
   "metadata": {},
   "source": [
    "To drop each row with NaN values use ***dropna*** method"
   ]
  },
  {
   "cell_type": "code",
   "execution_count": 71,
   "id": "cd951e3f-0c49-43f7-9546-c56ed5f7930f",
   "metadata": {},
   "outputs": [
    {
     "data": {
      "text/html": [
       "<div>\n",
       "<style scoped>\n",
       "    .dataframe tbody tr th:only-of-type {\n",
       "        vertical-align: middle;\n",
       "    }\n",
       "\n",
       "    .dataframe tbody tr th {\n",
       "        vertical-align: top;\n",
       "    }\n",
       "\n",
       "    .dataframe thead th {\n",
       "        text-align: right;\n",
       "    }\n",
       "</style>\n",
       "<table border=\"1\" class=\"dataframe\">\n",
       "  <thead>\n",
       "    <tr style=\"text-align: right;\">\n",
       "      <th></th>\n",
       "      <th>A</th>\n",
       "      <th>B</th>\n",
       "      <th>C</th>\n",
       "      <th>D</th>\n",
       "    </tr>\n",
       "  </thead>\n",
       "  <tbody>\n",
       "    <tr>\n",
       "      <th>0</th>\n",
       "      <td>0</td>\n",
       "      <td>4.0</td>\n",
       "      <td>7.0</td>\n",
       "      <td>9.0</td>\n",
       "    </tr>\n",
       "  </tbody>\n",
       "</table>\n",
       "</div>"
      ],
      "text/plain": [
       "   A    B    C    D\n",
       "0  0  4.0  7.0  9.0"
      ]
     },
     "execution_count": 71,
     "metadata": {},
     "output_type": "execute_result"
    }
   ],
   "source": [
    "df.dropna()"
   ]
  },
  {
   "cell_type": "markdown",
   "id": "d7a1d68b-23db-489e-a7cf-bd5901d92b0a",
   "metadata": {},
   "source": [
    "To drop all columns set ***axis=1*** (default is 0 - rows)"
   ]
  },
  {
   "cell_type": "code",
   "execution_count": 72,
   "id": "2e265403-9d5e-40eb-b08c-7a844aa252d3",
   "metadata": {},
   "outputs": [
    {
     "data": {
      "text/html": [
       "<div>\n",
       "<style scoped>\n",
       "    .dataframe tbody tr th:only-of-type {\n",
       "        vertical-align: middle;\n",
       "    }\n",
       "\n",
       "    .dataframe tbody tr th {\n",
       "        vertical-align: top;\n",
       "    }\n",
       "\n",
       "    .dataframe thead th {\n",
       "        text-align: right;\n",
       "    }\n",
       "</style>\n",
       "<table border=\"1\" class=\"dataframe\">\n",
       "  <thead>\n",
       "    <tr style=\"text-align: right;\">\n",
       "      <th></th>\n",
       "      <th>A</th>\n",
       "    </tr>\n",
       "  </thead>\n",
       "  <tbody>\n",
       "    <tr>\n",
       "      <th>0</th>\n",
       "      <td>0</td>\n",
       "    </tr>\n",
       "    <tr>\n",
       "      <th>1</th>\n",
       "      <td>1</td>\n",
       "    </tr>\n",
       "    <tr>\n",
       "      <th>2</th>\n",
       "      <td>2</td>\n",
       "    </tr>\n",
       "    <tr>\n",
       "      <th>3</th>\n",
       "      <td>3</td>\n",
       "    </tr>\n",
       "  </tbody>\n",
       "</table>\n",
       "</div>"
      ],
      "text/plain": [
       "   A\n",
       "0  0\n",
       "1  1\n",
       "2  2\n",
       "3  3"
      ]
     },
     "execution_count": 72,
     "metadata": {},
     "output_type": "execute_result"
    }
   ],
   "source": [
    "df.dropna(axis=1)"
   ]
  },
  {
   "cell_type": "markdown",
   "id": "69b8ff27-0d9a-4348-86a5-3541794f05e7",
   "metadata": {},
   "source": [
    "To specify at least how many proper values must exist for row to not be droped, use ***thresh*** attribute"
   ]
  },
  {
   "cell_type": "code",
   "execution_count": 77,
   "id": "0db581d2-966d-4f2f-9638-0286ad7aaa1a",
   "metadata": {},
   "outputs": [
    {
     "data": {
      "text/html": [
       "<div>\n",
       "<style scoped>\n",
       "    .dataframe tbody tr th:only-of-type {\n",
       "        vertical-align: middle;\n",
       "    }\n",
       "\n",
       "    .dataframe tbody tr th {\n",
       "        vertical-align: top;\n",
       "    }\n",
       "\n",
       "    .dataframe thead th {\n",
       "        text-align: right;\n",
       "    }\n",
       "</style>\n",
       "<table border=\"1\" class=\"dataframe\">\n",
       "  <thead>\n",
       "    <tr style=\"text-align: right;\">\n",
       "      <th></th>\n",
       "      <th>A</th>\n",
       "      <th>B</th>\n",
       "      <th>C</th>\n",
       "      <th>D</th>\n",
       "    </tr>\n",
       "  </thead>\n",
       "  <tbody>\n",
       "    <tr>\n",
       "      <th>0</th>\n",
       "      <td>0</td>\n",
       "      <td>4.0</td>\n",
       "      <td>7.0</td>\n",
       "      <td>9.0</td>\n",
       "    </tr>\n",
       "    <tr>\n",
       "      <th>1</th>\n",
       "      <td>1</td>\n",
       "      <td>5.0</td>\n",
       "      <td>8.0</td>\n",
       "      <td>NaN</td>\n",
       "    </tr>\n",
       "  </tbody>\n",
       "</table>\n",
       "</div>"
      ],
      "text/plain": [
       "   A    B    C    D\n",
       "0  0  4.0  7.0  9.0\n",
       "1  1  5.0  8.0  NaN"
      ]
     },
     "execution_count": 77,
     "metadata": {},
     "output_type": "execute_result"
    }
   ],
   "source": [
    "df.dropna(thresh=3)"
   ]
  },
  {
   "cell_type": "markdown",
   "id": "582c44d6-afa1-410a-ae4b-364908ecbb8e",
   "metadata": {},
   "source": [
    "## Filling NaN values"
   ]
  },
  {
   "cell_type": "markdown",
   "id": "d4b63696-5b11-46e2-9d05-ffbc037b0035",
   "metadata": {},
   "source": [
    "To fill NaN values with other values, use ***fillna*** method, and pass a value within it"
   ]
  },
  {
   "cell_type": "code",
   "execution_count": 79,
   "id": "fd7516cb-81ab-46e8-855d-88407dbf45a2",
   "metadata": {},
   "outputs": [
    {
     "data": {
      "text/html": [
       "<div>\n",
       "<style scoped>\n",
       "    .dataframe tbody tr th:only-of-type {\n",
       "        vertical-align: middle;\n",
       "    }\n",
       "\n",
       "    .dataframe tbody tr th {\n",
       "        vertical-align: top;\n",
       "    }\n",
       "\n",
       "    .dataframe thead th {\n",
       "        text-align: right;\n",
       "    }\n",
       "</style>\n",
       "<table border=\"1\" class=\"dataframe\">\n",
       "  <thead>\n",
       "    <tr style=\"text-align: right;\">\n",
       "      <th></th>\n",
       "      <th>A</th>\n",
       "      <th>B</th>\n",
       "      <th>C</th>\n",
       "      <th>D</th>\n",
       "    </tr>\n",
       "  </thead>\n",
       "  <tbody>\n",
       "    <tr>\n",
       "      <th>0</th>\n",
       "      <td>0</td>\n",
       "      <td>4.0</td>\n",
       "      <td>7.0</td>\n",
       "      <td>9.0</td>\n",
       "    </tr>\n",
       "    <tr>\n",
       "      <th>1</th>\n",
       "      <td>1</td>\n",
       "      <td>5.0</td>\n",
       "      <td>8.0</td>\n",
       "      <td>FILLED</td>\n",
       "    </tr>\n",
       "    <tr>\n",
       "      <th>2</th>\n",
       "      <td>2</td>\n",
       "      <td>6.0</td>\n",
       "      <td>FILLED</td>\n",
       "      <td>FILLED</td>\n",
       "    </tr>\n",
       "    <tr>\n",
       "      <th>3</th>\n",
       "      <td>3</td>\n",
       "      <td>FILLED</td>\n",
       "      <td>FILLED</td>\n",
       "      <td>FILLED</td>\n",
       "    </tr>\n",
       "  </tbody>\n",
       "</table>\n",
       "</div>"
      ],
      "text/plain": [
       "   A       B       C       D\n",
       "0  0     4.0     7.0     9.0\n",
       "1  1     5.0     8.0  FILLED\n",
       "2  2     6.0  FILLED  FILLED\n",
       "3  3  FILLED  FILLED  FILLED"
      ]
     },
     "execution_count": 79,
     "metadata": {},
     "output_type": "execute_result"
    }
   ],
   "source": [
    "df.fillna(value='FILLED')"
   ]
  },
  {
   "cell_type": "markdown",
   "id": "18653435-c86e-419f-8d79-9ff956b65672",
   "metadata": {},
   "source": [
    "to fill Nan for specific column with i.e. mean of that column values, just pass expression as value"
   ]
  },
  {
   "cell_type": "code",
   "execution_count": 82,
   "id": "af8b8a11-fc73-4e55-935b-e6bc594fc5a3",
   "metadata": {},
   "outputs": [
    {
     "data": {
      "text/plain": [
       "0    4.0\n",
       "1    5.0\n",
       "2    6.0\n",
       "3    5.0\n",
       "Name: B, dtype: float64"
      ]
     },
     "execution_count": 82,
     "metadata": {},
     "output_type": "execute_result"
    }
   ],
   "source": [
    "df['B'].fillna(value=df['B'].mean())"
   ]
  },
  {
   "cell_type": "markdown",
   "id": "68b07a90-3ca3-4aea-95c7-c9338d7e4c06",
   "metadata": {},
   "source": [
    "## Groupby and aggregation functions"
   ]
  },
  {
   "cell_type": "code",
   "execution_count": null,
   "id": "cd7252aa-1b60-4671-a916-436bf0079e83",
   "metadata": {},
   "outputs": [],
   "source": []
  }
 ],
 "metadata": {
  "kernelspec": {
   "display_name": "Python 3",
   "language": "python",
   "name": "python3"
  },
  "language_info": {
   "codemirror_mode": {
    "name": "ipython",
    "version": 3
   },
   "file_extension": ".py",
   "mimetype": "text/x-python",
   "name": "python",
   "nbconvert_exporter": "python",
   "pygments_lexer": "ipython3",
   "version": "3.8.8"
  },
  "toc-autonumbering": true,
  "toc-showmarkdowntxt": false
 },
 "nbformat": 4,
 "nbformat_minor": 5
}
